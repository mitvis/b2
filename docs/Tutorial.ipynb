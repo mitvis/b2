{
 "cells": [
  {
   "cell_type": "markdown",
   "metadata": {},
   "source": [
    "# Midas Tutorial\n",
    "\n",
    "Hello! Please follow the tutorial to learn the basics of Midas. Be sure to play around until you are comfortable. You will have about 20 minutes. Should you have any questions, please feel free to ask Yifan, who will be present during the entire session.\n",
    "\n",
    "## Introduction\n",
    "Midas is a Jupyter notebook library/extension that aids data exploration by providing relevant static  visualizations. The key of Midas is that **the operations you perform in the interactive visualization space is also reflected in code space**---you will see what this means if you run the code cells below!\n",
    "\n",
    "## Dataframe Operations\n",
    "Midas is a special dataframe with syntax using that of the [data science module](http://data8.org/datascience/) from Data 8. Thw following are common operations that might be useful for querying:\n",
    "\n",
    "* SELECT: `df.select(['col_name', 'more_col_name'])` --- Note that columns are referenced as strings.\n",
    "* WHERER: `df.where('col_name', predicate)` -- the predicates are using lambda functions provided in the [`are`](http://data8.org/datascience/predicates.html) library, such as `are.above(8)` (as opposed to function overloading as seen in pandas, like `df[df['a']>8]`. If you wish to compare two columns, then you can use `.where('col1', preidcate, 'col2')`, such as `marbles.where(\"Price\", are.above, \"Amount\")`.\n",
    "* GROUP BY: `df.group('col_name', agg_fun)`, the default aggregation for a `group` is count, but you can also supple the aggregation by using existing aggregation functions such as Python's built in `sum`, `min`, `max` (or any of the `numpy` aggregation methods that work on arrays). The groupby operation is applied to all the columns that are not being grouped by on.\n",
    "* Apply general methods: `df.apply(map_fun, new_column_name)` -- for instance, if you want to derive a new column that was the original column plus 1, with the new column called \"incremented\", the function you can call is `df.apply(lambda x: x + 1, 'incremented')`.\n",
    "\n",
    "The following are useful for data modification:\n",
    "* `append_column(label, values)` appends a new column, note that values must be created via `make_array` (so that it's numpy compliant) \n",
    "* `append(array_of_new_values)` appends a new row\n",
    "\n",
    "Note that you can also access the columns as numpy arrays by using `df['col_name']`, which can be handy to use methods like `np.average(df['col_name'])`."
   ]
  },
  {
   "cell_type": "markdown",
   "metadata": {},
   "source": [
    "## Initiate Midas\n",
    "Import the library and create an instance, `m = Midas()`, and we call the Midas runtime variable. Per a single notebook, you can only have one Midas instsance.\n",
    "Then you will see that a dashboard-like area pops up to the right. You will see three areas, one is that of the data (yellow pane), showing the dataframes with acommpanying columns, and the others are the charts."
   ]
  },
  {
   "cell_type": "code",
   "execution_count": null,
   "metadata": {},
   "outputs": [],
   "source": [
    "from midas import Midas\n",
    "m = Midas()\n",
    "\n",
    "# other utility libraries\n",
    "import numpy as np\n",
    "from datascience import Table, make_array\n",
    "from datascience.predicates import are"
   ]
  },
  {
   "cell_type": "markdown",
   "metadata": {},
   "source": [
    "## Load data\n",
    "Midas takes in data from a few APIs, such as `from_df`, used below, which loads from pandas dataframe.\n",
    "Note that you can also use"
   ]
  },
  {
   "cell_type": "code",
   "execution_count": null,
   "metadata": {},
   "outputs": [],
   "source": [
    "disaster_df = m.read_table('https://vega.github.io/vega-datasets/data/disasters.csv')"
   ]
  },
  {
   "cell_type": "markdown",
   "metadata": {},
   "source": [
    "## Seeing data\n",
    "\n",
    "Since a lot of basic visualization is highly predicatable, Midas attempts to visualize the basics for you directly.  However, sometimes, you may want to change the encoding, which is also very easy to do in Midas---just specify `mark`, `x`, `y`, and if you have three columns, specify the third column for `color` or `size`."
   ]
  },
  {
   "cell_type": "code",
   "execution_count": null,
   "metadata": {},
   "outputs": [],
   "source": [
    "# 🟡 04:04 PM 🟡\n",
    "disaster_df.append_column('Deaths_bin', disaster_df.apply(lambda x: int(x/200000.0) * 200000.0, 'Deaths'))\n",
    "Deaths_distribution = disaster_df.group('Deaths_bin')"
   ]
  },
  {
   "cell_type": "code",
   "execution_count": null,
   "metadata": {},
   "outputs": [],
   "source": [
    "# 🟡 03:55 PM 🟡\n",
    "disaster_df.append_column('Year_bin', disaster_df.apply(lambda x: int(x/20.0) * 20.0, 'Year'))\n",
    "Year_distribution = disaster_df.group('Year_bin')"
   ]
  },
  {
   "cell_type": "code",
   "execution_count": null,
   "metadata": {},
   "outputs": [],
   "source": [
    "Entity_distribution = disaster_df.group('Entity')"
   ]
  },
  {
   "cell_type": "markdown",
   "metadata": {},
   "source": [
    "## Getting distribution from clicking on the columns pane\n",
    "Go ahead and click on the columns. After you click, two effects take place:\n",
    "1. a cell will be created that contains dataframe calls that derives the new filtered values, as well as the visualization calls. You will see that they have color emoji such as 🟠, these are indicators for you to better visually navigate.\n",
    "2. a chart is created that visualizes the data created in the pane on the right hand side\n",
    "\n",
    "If the chart is the wrong encoding, or if the groupign query is inacurate, fell free to modify the code. You can click on the 📊icon to get the current definition to your clipboard. Paste the code to a cell, and the results will be reflected in the chart automatically."
   ]
  },
  {
   "cell_type": "code",
   "execution_count": null,
   "metadata": {},
   "outputs": [],
   "source": [
    "# 🟡 03:37 PM 🟡\n",
    "disaster_df.append_column('Year_bin', disaster_df.apply(lambda x: int(x/20.0) * 20.0, 'Year'))\n",
    "Year_distribution = disaster_df.group('Year_bin')"
   ]
  },
  {
   "cell_type": "code",
   "execution_count": null,
   "metadata": {},
   "outputs": [],
   "source": [
    "# 🟡 03:37 PM 🟡\n",
    "disaster_df.append_column('Deaths_bin', disaster_df.apply(lambda x: int(x/200000.0) * 200000.0, 'Deaths'))\n",
    "Deaths_distribution = disaster_df.group('Deaths_bin')"
   ]
  },
  {
   "cell_type": "markdown",
   "metadata": {},
   "source": [
    "## Accessing code with \"📋\"\n",
    "\n",
    "If you want to take the code with the selection apploed, click on the 📋icon and then the code will be in your clipboar --- use it however you want!"
   ]
  },
  {
   "cell_type": "markdown",
   "metadata": {},
   "source": [
    "## Snapshot of the current state with \"📷\"\n",
    "Clicking on 📷 will insert a new cell with the current chart you see."
   ]
  },
  {
   "cell_type": "markdown",
   "metadata": {},
   "source": [
    "## Making selections\n",
    "All the existing visualizations are equipped with the ability to **select**.\n",
    "\n",
    "* With scatter plots, you can **brush** select on both the x and y axis.\n",
    "* With bar charts, you can either brush to select the x axis items or click.\n",
    "* With line charts, you can brush to select a range on the x axis.\n",
    "\n",
    "When you perform a selection, you will observe two effects\n",
    "1. the charts will be filtered with the new data\n",
    "2. a cell will be generated with the selections you have made---the newly generated cells will keep on appending to the document based on the previous cell executed, and if you keep on interacting, the old interactions will be commented out and the new selection will be selected."
   ]
  },
  {
   "cell_type": "code",
   "execution_count": null,
   "metadata": {},
   "outputs": [],
   "source": []
  },
  {
   "cell_type": "code",
   "execution_count": null,
   "metadata": {},
   "outputs": [],
   "source": [
    "# reset selections\n",
    "m.make_selections([])"
   ]
  },
  {
   "cell_type": "markdown",
   "metadata": {},
   "source": [
    "## Navigating selections\n",
    "\n",
    "You will see that your selections are shown in the selection pane (blue). You can rename and click on the selections to make the selections again."
   ]
  },
  {
   "cell_type": "markdown",
   "metadata": {},
   "source": [
    "## Accessing selections programmatically\n",
    "\n",
    "Access selection in **predicate** form from the Midas runtime variable, `m` (you can assign it other names if you wish).\n",
    "- most recent selection: `m.current_selection`\n",
    "- all selections made in the past: `m.selection_history`\n",
    "\n",
    "Access selection results in **data** form, you have the following options:\n",
    "- access specific charts by the `<chart_name>.filtered_value`\n"
   ]
  },
  {
   "cell_type": "code",
   "execution_count": null,
   "metadata": {},
   "outputs": [],
   "source": [
    "m.current_selection"
   ]
  },
  {
   "cell_type": "code",
   "execution_count": null,
   "metadata": {},
   "outputs": [],
   "source": [
    "m.selection_history"
   ]
  },
  {
   "cell_type": "code",
   "execution_count": null,
   "metadata": {},
   "outputs": [],
   "source": []
  },
  {
   "cell_type": "markdown",
   "metadata": {},
   "source": [
    "## 🚧 Cleaning Data and Reactive State 🚧 (under developement)\n",
    "Often, the data requires some trimming and modification for analysis to continue. For instance, from the distribution of fires, you notice that only a couple fire sizes are extreme outliers, and you decide to ignore these points. \n",
    "\n",
    "However, you might want to keep the previous visualizations and selections, for this, you can use the `update` method to **synchronize state**, where the charts would directly relfect the result of the changes.  In the cases where the selections are no longer relevant, such as when the relevant column is deleted, the charts will be deleted, but the cells will remain.  You can of course create a new dataframe from which to derive charts from, in order to preserve the old ones.  Note that you cannot update derived dataframes. So in our tutorial, only `disasters` can be updated."
   ]
  },
  {
   "cell_type": "code",
   "execution_count": null,
   "metadata": {},
   "outputs": [],
   "source": []
  },
  {
   "cell_type": "markdown",
   "metadata": {},
   "source": [
    "## 🚧 Reactive Cells and Custom Visualizations 🚧(under developement)\n",
    "\n",
    "A reactive cell means that Midas will run it after interactions.\n",
    "Reactive cells can be used to inspect the state or computation related to the selection events.\n",
    "The APIs are currently not as stable so not exposed here!"
   ]
  },
  {
   "cell_type": "code",
   "execution_count": null,
   "metadata": {},
   "outputs": [],
   "source": [
    "# more interesting examples to come!\n",
    "%%reactive\n",
    "print(m.current_selection)"
   ]
  },
  {
   "cell_type": "markdown",
   "metadata": {},
   "source": [
    "## Using Joins for Analysis\n",
    "\n",
    "When performing analysis we often want to connect different sources of information. For instance, for this analysis, we might be interested in locating whether the number of fire has to do with average rainfall or temperatures.\n",
    "\n",
    "Even with joins, Midas can help you \"link\" the relevant tables together, given that you provide the information for how the two tables can be joined together, using the API, `a_df.can_join(another_df, 'column_name')`, where the two dataframes share teh same column name."
   ]
  },
  {
   "cell_type": "code",
   "execution_count": null,
   "metadata": {},
   "outputs": [],
   "source": [
    "# load data from a csv file\n",
    "stocks_df = m.read_table(\"https://vega.github.io/vega-datasets/data/sp500.csv\")\n",
    "# you can perform basic data cleaning \n",
    "stocks_df.append_column('year', table.apply(lambda x: x[-4:], 'date'))"
   ]
  },
  {
   "cell_type": "code",
   "execution_count": null,
   "metadata": {},
   "outputs": [],
   "source": [
    "# providing Midas with join information.\n",
    "disaster_df.can_join(stocks_df, 'year')"
   ]
  }
 ],
 "metadata": {
  "kernelspec": {
   "display_name": "Python 3",
   "language": "python",
   "name": "python3"
  },
  "language_info": {
   "codemirror_mode": {
    "name": "ipython",
    "version": 3
   },
   "file_extension": ".py",
   "mimetype": "text/x-python",
   "name": "python",
   "nbconvert_exporter": "python",
   "pygments_lexer": "ipython3",
   "version": "3.7.4"
  }
 },
 "nbformat": 4,
 "nbformat_minor": 2
}
