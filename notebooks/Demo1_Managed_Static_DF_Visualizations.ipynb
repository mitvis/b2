{
 "cells": [
  {
   "cell_type": "markdown",
   "metadata": {},
   "source": [
    "# Static Chart Visualization Demo\n",
    "This notebook show cases how Midas could help you see the `DataFrame`s as you make then"
   ]
  },
  {
   "cell_type": "code",
   "execution_count": 1,
   "metadata": {},
   "outputs": [],
   "source": [
    "%load_ext autoreload\n",
    "%autoreload 2"
   ]
  },
  {
   "cell_type": "code",
   "execution_count": 14,
   "metadata": {},
   "outputs": [],
   "source": [
    "from midas import Midas\n",
    "m = Midas()"
   ]
  },
  {
   "cell_type": "code",
   "execution_count": 3,
   "metadata": {},
   "outputs": [],
   "source": [
    "import pandas as pd"
   ]
  },
  {
   "cell_type": "code",
   "execution_count": 4,
   "metadata": {},
   "outputs": [],
   "source": [
    "# load DF, using \n",
    "cars_df = pd.read_json('data/cars.json')"
   ]
  },
  {
   "cell_type": "code",
   "execution_count": 6,
   "metadata": {
    "scrolled": false
   },
   "outputs": [
    {
     "data": {
      "text/html": [
       "<div>\n",
       "<style scoped>\n",
       "    .dataframe tbody tr th:only-of-type {\n",
       "        vertical-align: middle;\n",
       "    }\n",
       "\n",
       "    .dataframe tbody tr th {\n",
       "        vertical-align: top;\n",
       "    }\n",
       "\n",
       "    .dataframe thead th {\n",
       "        text-align: right;\n",
       "    }\n",
       "</style>\n",
       "<table border=\"1\" class=\"dataframe\">\n",
       "  <thead>\n",
       "    <tr style=\"text-align: right;\">\n",
       "      <th></th>\n",
       "      <th>Acceleration</th>\n",
       "      <th>Cylinders</th>\n",
       "      <th>Displacement</th>\n",
       "      <th>Horsepower</th>\n",
       "      <th>Miles_per_Gallon</th>\n",
       "      <th>Name</th>\n",
       "      <th>Origin</th>\n",
       "      <th>Weight_in_lbs</th>\n",
       "      <th>Year</th>\n",
       "    </tr>\n",
       "  </thead>\n",
       "  <tbody>\n",
       "    <tr>\n",
       "      <th>0</th>\n",
       "      <td>12.0</td>\n",
       "      <td>8</td>\n",
       "      <td>307.0</td>\n",
       "      <td>130.0</td>\n",
       "      <td>18.0</td>\n",
       "      <td>chevrolet chevelle malibu</td>\n",
       "      <td>USA</td>\n",
       "      <td>3504</td>\n",
       "      <td>1970-01-01</td>\n",
       "    </tr>\n",
       "    <tr>\n",
       "      <th>1</th>\n",
       "      <td>11.5</td>\n",
       "      <td>8</td>\n",
       "      <td>350.0</td>\n",
       "      <td>165.0</td>\n",
       "      <td>15.0</td>\n",
       "      <td>buick skylark 320</td>\n",
       "      <td>USA</td>\n",
       "      <td>3693</td>\n",
       "      <td>1970-01-01</td>\n",
       "    </tr>\n",
       "    <tr>\n",
       "      <th>2</th>\n",
       "      <td>11.0</td>\n",
       "      <td>8</td>\n",
       "      <td>318.0</td>\n",
       "      <td>150.0</td>\n",
       "      <td>18.0</td>\n",
       "      <td>plymouth satellite</td>\n",
       "      <td>USA</td>\n",
       "      <td>3436</td>\n",
       "      <td>1970-01-01</td>\n",
       "    </tr>\n",
       "    <tr>\n",
       "      <th>3</th>\n",
       "      <td>12.0</td>\n",
       "      <td>8</td>\n",
       "      <td>304.0</td>\n",
       "      <td>150.0</td>\n",
       "      <td>16.0</td>\n",
       "      <td>amc rebel sst</td>\n",
       "      <td>USA</td>\n",
       "      <td>3433</td>\n",
       "      <td>1970-01-01</td>\n",
       "    </tr>\n",
       "    <tr>\n",
       "      <th>4</th>\n",
       "      <td>10.5</td>\n",
       "      <td>8</td>\n",
       "      <td>302.0</td>\n",
       "      <td>140.0</td>\n",
       "      <td>17.0</td>\n",
       "      <td>ford torino</td>\n",
       "      <td>USA</td>\n",
       "      <td>3449</td>\n",
       "      <td>1970-01-01</td>\n",
       "    </tr>\n",
       "  </tbody>\n",
       "</table>\n",
       "</div>"
      ],
      "text/plain": [
       "   Acceleration  Cylinders  Displacement  Horsepower  Miles_per_Gallon  \\\n",
       "0          12.0          8         307.0       130.0              18.0   \n",
       "1          11.5          8         350.0       165.0              15.0   \n",
       "2          11.0          8         318.0       150.0              18.0   \n",
       "3          12.0          8         304.0       150.0              16.0   \n",
       "4          10.5          8         302.0       140.0              17.0   \n",
       "\n",
       "                        Name Origin  Weight_in_lbs        Year  \n",
       "0  chevrolet chevelle malibu    USA           3504  1970-01-01  \n",
       "1          buick skylark 320    USA           3693  1970-01-01  \n",
       "2         plymouth satellite    USA           3436  1970-01-01  \n",
       "3              amc rebel sst    USA           3433  1970-01-01  \n",
       "4                ford torino    USA           3449  1970-01-01  "
      ]
     },
     "execution_count": 6,
     "metadata": {},
     "output_type": "execute_result"
    }
   ],
   "source": [
    "small_df = cars_df.head(5)\n",
    "small_df"
   ]
  },
  {
   "cell_type": "code",
   "execution_count": 15,
   "metadata": {},
   "outputs": [
    {
     "name": "stdout",
     "output_type": "stream",
     "text": [
      "\u001b[92m[register_df]\t\tsmall_df\u001b[0m\n"
     ]
    }
   ],
   "source": [
    "m.register_df('small_df', small_df)"
   ]
  },
  {
   "cell_type": "code",
   "execution_count": 12,
   "metadata": {},
   "outputs": [
    {
     "data": {
      "text/plain": [
       "'{\"schema\": {\"fields\":[{\"name\":\"index\",\"type\":\"integer\"},{\"name\":\"Acceleration\",\"type\":\"number\"},{\"name\":\"Cylinders\",\"type\":\"integer\"},{\"name\":\"Displacement\",\"type\":\"number\"},{\"name\":\"Horsepower\",\"type\":\"number\"},{\"name\":\"Miles_per_Gallon\",\"type\":\"number\"},{\"name\":\"Name\",\"type\":\"string\"},{\"name\":\"Origin\",\"type\":\"string\"},{\"name\":\"Weight_in_lbs\",\"type\":\"integer\"},{\"name\":\"Year\",\"type\":\"string\"}],\"primaryKey\":[\"index\"],\"pandas_version\":\"0.20.0\"}, \"data\": [{\"index\":0,\"Acceleration\":12.0,\"Cylinders\":8,\"Displacement\":307.0,\"Horsepower\":130.0,\"Miles_per_Gallon\":18.0,\"Name\":\"chevrolet chevelle malibu\",\"Origin\":\"USA\",\"Weight_in_lbs\":3504,\"Year\":\"1970-01-01\"},{\"index\":1,\"Acceleration\":11.5,\"Cylinders\":8,\"Displacement\":350.0,\"Horsepower\":165.0,\"Miles_per_Gallon\":15.0,\"Name\":\"buick skylark 320\",\"Origin\":\"USA\",\"Weight_in_lbs\":3693,\"Year\":\"1970-01-01\"},{\"index\":2,\"Acceleration\":11.0,\"Cylinders\":8,\"Displacement\":318.0,\"Horsepower\":150.0,\"Miles_per_Gallon\":18.0,\"Name\":\"plymouth satellite\",\"Origin\":\"USA\",\"Weight_in_lbs\":3436,\"Year\":\"1970-01-01\"},{\"index\":3,\"Acceleration\":12.0,\"Cylinders\":8,\"Displacement\":304.0,\"Horsepower\":150.0,\"Miles_per_Gallon\":16.0,\"Name\":\"amc rebel sst\",\"Origin\":\"USA\",\"Weight_in_lbs\":3433,\"Year\":\"1970-01-01\"},{\"index\":4,\"Acceleration\":10.5,\"Cylinders\":8,\"Displacement\":302.0,\"Horsepower\":140.0,\"Miles_per_Gallon\":17.0,\"Name\":\"ford torino\",\"Origin\":\"USA\",\"Weight_in_lbs\":3449,\"Year\":\"1970-01-01\"}]}'"
      ]
     },
     "execution_count": 12,
     "metadata": {},
     "output_type": "execute_result"
    }
   ],
   "source": [
    "small_df.to_json(orient=\"table\")"
   ]
  },
  {
   "cell_type": "code",
   "execution_count": 5,
   "metadata": {},
   "outputs": [
    {
     "name": "stdout",
     "output_type": "stream",
     "text": [
      "\u001b[92m[register_df]\t\torigin_df\u001b[0m\n"
     ]
    }
   ],
   "source": [
    "# let's try a bar chart, select just the origins\n",
    "origin_df = m.loc('cars_df', 'origin_df', columns=['Origin'])\n",
    "# cars_df[['Origin']]"
   ]
  },
  {
   "cell_type": "code",
   "execution_count": 6,
   "metadata": {},
   "outputs": [
    {
     "name": "stdout",
     "output_type": "stream",
     "text": [
      "\u001b[92m[register_df]\t\tdisplacement_df\u001b[0m\n"
     ]
    }
   ],
   "source": [
    "displacement_df = m.loc('cars_df', 'displacement_df', columns=['Displacement'])"
   ]
  },
  {
   "cell_type": "code",
   "execution_count": 9,
   "metadata": {},
   "outputs": [],
   "source": [
    "import pandas as pd"
   ]
  },
  {
   "cell_type": "code",
   "execution_count": 10,
   "metadata": {},
   "outputs": [
    {
     "name": "stdout",
     "output_type": "stream",
     "text": [
      "\u001b[92m[register_df]\t\treivews_df\u001b[0m\n"
     ]
    }
   ],
   "source": [
    "# this is a test for timeseries\n",
    "reviews_df_raw = pd.read_csv('data/pitchfork.csv',\n",
    "                 index_col=None,\n",
    "                 parse_dates=['pub_date'])\n",
    "reviews_df = reviews_df_raw[['pub_date']]\n",
    "m.register_df(reviews_df, 'reivews_df')"
   ]
  },
  {
   "cell_type": "code",
   "execution_count": null,
   "metadata": {},
   "outputs": [],
   "source": []
  }
 ],
 "metadata": {
  "kernelspec": {
   "display_name": "Python 3",
   "language": "python",
   "name": "python3"
  },
  "language_info": {
   "codemirror_mode": {
    "name": "ipython",
    "version": 3
   },
   "file_extension": ".py",
   "mimetype": "text/x-python",
   "name": "python",
   "nbconvert_exporter": "python",
   "pygments_lexer": "ipython3",
   "version": "3.7.1"
  }
 },
 "nbformat": 4,
 "nbformat_minor": 2
}
