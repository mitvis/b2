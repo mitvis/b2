{
 "cells": [
  {
   "cell_type": "markdown",
   "metadata": {},
   "source": [
    "# Static Chart Visualization Demo\n",
    "This notebook show cases how Midas could help you see the `DataFrame`s as you make then"
   ]
  },
  {
   "cell_type": "code",
   "execution_count": 19,
   "metadata": {},
   "outputs": [
    {
     "name": "stdout",
     "output_type": "stream",
     "text": [
      "The autoreload extension is already loaded. To reload it, use:\n",
      "  %reload_ext autoreload\n"
     ]
    }
   ],
   "source": [
    "%load_ext autoreload\n",
    "%autoreload 2"
   ]
  },
  {
   "cell_type": "code",
   "execution_count": 20,
   "metadata": {},
   "outputs": [],
   "source": [
    "from midas import Midas\n",
    "m = Midas()"
   ]
  },
  {
   "cell_type": "code",
   "execution_count": 21,
   "metadata": {},
   "outputs": [],
   "source": [
    "import pandas as pd"
   ]
  },
  {
   "cell_type": "code",
   "execution_count": 22,
   "metadata": {},
   "outputs": [],
   "source": [
    "# load DF, using \n",
    "cars_df = pd.read_json('data/cars.json')"
   ]
  },
  {
   "cell_type": "code",
   "execution_count": 23,
   "metadata": {
    "scrolled": false
   },
   "outputs": [],
   "source": [
    "small_df = cars_df.head(5)"
   ]
  },
  {
   "cell_type": "code",
   "execution_count": 24,
   "metadata": {},
   "outputs": [
    {
     "name": "stdout",
     "output_type": "stream",
     "text": [
      "\u001b[92m[register_df]\t\ttwo_col\u001b[0m\n"
     ]
    }
   ],
   "source": [
    "two_col = cars_df.loc[0:, ['Acceleration', 'Cylinders']]\n",
    "\n",
    "m.register_df('two_col', two_col)"
   ]
  },
  {
   "cell_type": "code",
   "execution_count": 25,
   "metadata": {},
   "outputs": [
    {
     "name": "stdout",
     "output_type": "stream",
     "text": [
      "\u001b[92m[register_df]\t\tsmall_df\u001b[0m\n"
     ]
    }
   ],
   "source": [
    "m.register_df('small_df', small_df)"
   ]
  },
  {
   "cell_type": "code",
   "execution_count": 26,
   "metadata": {},
   "outputs": [
    {
     "data": {
      "text/plain": [
       "'{\"schema\": {\"fields\":[{\"name\":\"index\",\"type\":\"integer\"},{\"name\":\"Name\",\"type\":\"string\"},{\"name\":\"Miles_per_Gallon\",\"type\":\"number\"},{\"name\":\"Cylinders\",\"type\":\"integer\"},{\"name\":\"Displacement\",\"type\":\"number\"},{\"name\":\"Horsepower\",\"type\":\"number\"},{\"name\":\"Weight_in_lbs\",\"type\":\"integer\"},{\"name\":\"Acceleration\",\"type\":\"number\"},{\"name\":\"Year\",\"type\":\"string\"},{\"name\":\"Origin\",\"type\":\"string\"}],\"primaryKey\":[\"index\"],\"pandas_version\":\"0.20.0\"}, \"data\": [{\"index\":0,\"Name\":\"chevrolet chevelle malibu\",\"Miles_per_Gallon\":18.0,\"Cylinders\":8,\"Displacement\":307.0,\"Horsepower\":130.0,\"Weight_in_lbs\":3504,\"Acceleration\":12.0,\"Year\":\"1970-01-01\",\"Origin\":\"USA\"},{\"index\":1,\"Name\":\"buick skylark 320\",\"Miles_per_Gallon\":15.0,\"Cylinders\":8,\"Displacement\":350.0,\"Horsepower\":165.0,\"Weight_in_lbs\":3693,\"Acceleration\":11.5,\"Year\":\"1970-01-01\",\"Origin\":\"USA\"},{\"index\":2,\"Name\":\"plymouth satellite\",\"Miles_per_Gallon\":18.0,\"Cylinders\":8,\"Displacement\":318.0,\"Horsepower\":150.0,\"Weight_in_lbs\":3436,\"Acceleration\":11.0,\"Year\":\"1970-01-01\",\"Origin\":\"USA\"},{\"index\":3,\"Name\":\"amc rebel sst\",\"Miles_per_Gallon\":16.0,\"Cylinders\":8,\"Displacement\":304.0,\"Horsepower\":150.0,\"Weight_in_lbs\":3433,\"Acceleration\":12.0,\"Year\":\"1970-01-01\",\"Origin\":\"USA\"},{\"index\":4,\"Name\":\"ford torino\",\"Miles_per_Gallon\":17.0,\"Cylinders\":8,\"Displacement\":302.0,\"Horsepower\":140.0,\"Weight_in_lbs\":3449,\"Acceleration\":10.5,\"Year\":\"1970-01-01\",\"Origin\":\"USA\"}]}'"
      ]
     },
     "execution_count": 26,
     "metadata": {},
     "output_type": "execute_result"
    }
   ],
   "source": [
    "small_df.to_json(orient=\"table\")"
   ]
  },
  {
   "cell_type": "code",
   "execution_count": 9,
   "metadata": {},
   "outputs": [],
   "source": [
    "origin_df = cars_df[['Origin']]"
   ]
  },
  {
   "cell_type": "code",
   "execution_count": 10,
   "metadata": {},
   "outputs": [
    {
     "name": "stdout",
     "output_type": "stream",
     "text": [
      "\u001b[92m[register_df]\t\torigin_df\u001b[0m\n"
     ]
    }
   ],
   "source": [
    "m.register_df('origin_df', origin_df)"
   ]
  },
  {
   "cell_type": "code",
   "execution_count": 11,
   "metadata": {},
   "outputs": [
    {
     "name": "stdout",
     "output_type": "stream",
     "text": [
      "\u001b[92m[register_df]\t\torigin_df2\u001b[0m\n"
     ]
    }
   ],
   "source": [
    "m.register_df('origin_df2', origin_df)"
   ]
  },
  {
   "cell_type": "code",
   "execution_count": 12,
   "metadata": {},
   "outputs": [
    {
     "ename": "AttributeError",
     "evalue": "'Midas' object has no attribute 'loc'",
     "output_type": "error",
     "traceback": [
      "\u001b[0;31m---------------------------------------------------------------------------\u001b[0m",
      "\u001b[0;31mAttributeError\u001b[0m                            Traceback (most recent call last)",
      "\u001b[0;32m<ipython-input-12-d921e5f01df8>\u001b[0m in \u001b[0;36m<module>\u001b[0;34m\u001b[0m\n\u001b[1;32m      1\u001b[0m \u001b[0;31m# let's try a bar chart, select just the origins\u001b[0m\u001b[0;34m\u001b[0m\u001b[0;34m\u001b[0m\u001b[0;34m\u001b[0m\u001b[0m\n\u001b[0;32m----> 2\u001b[0;31m \u001b[0morigin_df\u001b[0m \u001b[0;34m=\u001b[0m \u001b[0mm\u001b[0m\u001b[0;34m.\u001b[0m\u001b[0mloc\u001b[0m\u001b[0;34m(\u001b[0m\u001b[0;34m'cars_df'\u001b[0m\u001b[0;34m,\u001b[0m \u001b[0;34m'origin_df'\u001b[0m\u001b[0;34m,\u001b[0m \u001b[0mcolumns\u001b[0m\u001b[0;34m=\u001b[0m\u001b[0;34m[\u001b[0m\u001b[0;34m'Origin'\u001b[0m\u001b[0;34m]\u001b[0m\u001b[0;34m)\u001b[0m\u001b[0;34m\u001b[0m\u001b[0;34m\u001b[0m\u001b[0m\n\u001b[0m\u001b[1;32m      3\u001b[0m \u001b[0;31m# cars_df[['Origin']]\u001b[0m\u001b[0;34m\u001b[0m\u001b[0;34m\u001b[0m\u001b[0;34m\u001b[0m\u001b[0m\n",
      "\u001b[0;31mAttributeError\u001b[0m: 'Midas' object has no attribute 'loc'"
     ]
    }
   ],
   "source": [
    "# let's try a bar chart, select just the origins\n",
    "origin_df = m.loc('cars_df', 'origin_df', columns=['Origin'])\n",
    "# cars_df[['Origin']]"
   ]
  },
  {
   "cell_type": "code",
   "execution_count": null,
   "metadata": {},
   "outputs": [],
   "source": [
    "displacement_df = m.loc('cars_df', 'displacement_df', columns=['Displacement'])"
   ]
  },
  {
   "cell_type": "code",
   "execution_count": null,
   "metadata": {},
   "outputs": [],
   "source": [
    "import pandas as pd"
   ]
  },
  {
   "cell_type": "code",
   "execution_count": null,
   "metadata": {},
   "outputs": [],
   "source": [
    "# this is a test for timeseries\n",
    "reviews_df_raw = pd.read_csv('data/pitchfork.csv',\n",
    "                 index_col=None,\n",
    "                 parse_dates=['pub_date'])\n",
    "reviews_df = reviews_df_raw[['pub_date']]\n",
    "m.register_df(reviews_df, 'reivews_df')"
   ]
  },
  {
   "cell_type": "code",
   "execution_count": null,
   "metadata": {},
   "outputs": [],
   "source": []
  }
 ],
 "metadata": {
  "kernelspec": {
   "display_name": "Python 3",
   "language": "python",
   "name": "python3"
  },
  "language_info": {
   "codemirror_mode": {
    "name": "ipython",
    "version": 3
   },
   "file_extension": ".py",
   "mimetype": "text/x-python",
   "name": "python",
   "nbconvert_exporter": "python",
   "pygments_lexer": "ipython3",
   "version": "3.7.4"
  }
 },
 "nbformat": 4,
 "nbformat_minor": 2
}
