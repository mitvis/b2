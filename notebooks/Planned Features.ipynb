{
 "cells": [
  {
   "cell_type": "code",
   "execution_count": 1,
   "metadata": {},
   "outputs": [],
   "source": [
    "import pandas as pd"
   ]
  },
  {
   "cell_type": "code",
   "execution_count": 2,
   "metadata": {},
   "outputs": [],
   "source": [
    "%load_ext autoreload\n",
    "%autoreload 2\n",
    "from midas import Midas"
   ]
  },
  {
   "cell_type": "code",
   "execution_count": 43,
   "metadata": {},
   "outputs": [],
   "source": [
    "%reload_ext autoreload"
   ]
  },
  {
   "cell_type": "code",
   "execution_count": 3,
   "metadata": {},
   "outputs": [],
   "source": [
    "m = Midas()"
   ]
  },
  {
   "cell_type": "code",
   "execution_count": 5,
   "metadata": {},
   "outputs": [
    {
     "name": "stdout",
     "output_type": "stream",
     "text": [
      "showing visualization\n"
     ]
    }
   ],
   "source": [
    "df = m.read_json('cars.json')"
   ]
  },
  {
   "cell_type": "code",
   "execution_count": 15,
   "metadata": {},
   "outputs": [
    {
     "data": {
      "application/vnd.jupyter.widget-view+json": {
       "model_id": "b23f830651e6459791a30d563b8ae523",
       "version_major": 2,
       "version_minor": 0
      },
      "text/plain": [
       "MidasWidget()"
      ]
     },
     "metadata": {},
     "output_type": "display_data"
    }
   ],
   "source": [
    "# the show me style rendering could be more intelligent...\n",
    "m.get_current_widget()"
   ]
  },
  {
   "cell_type": "markdown",
   "metadata": {},
   "source": [
    "## Car Analysis"
   ]
  },
  {
   "cell_type": "code",
   "execution_count": null,
   "metadata": {},
   "outputs": [],
   "source": [
    "# centralized state so that we can coordinate across charts\n",
    "m = Midas()"
   ]
  },
  {
   "cell_type": "markdown",
   "metadata": {},
   "source": [
    "### 💥showme like visual dashboard to support basic interactive visualizations"
   ]
  },
  {
   "cell_type": "code",
   "execution_count": null,
   "metadata": {},
   "outputs": [],
   "source": [
    "# this will show a simple interactive chart where we can select columns to visualize, facet etc.\n",
    "cars_dashboard = m.draw(df)"
   ]
  },
  {
   "cell_type": "markdown",
   "metadata": {},
   "source": [
    "![title](img/chart_dashboard2.png)"
   ]
  },
  {
   "cell_type": "markdown",
   "metadata": {},
   "source": [
    "### 💥manual specification if developer wants to intervene"
   ]
  },
  {
   "cell_type": "code",
   "execution_count": null,
   "metadata": {},
   "outputs": [],
   "source": [
    "# if they want to customize, very easy\n",
    "# modify\n",
    "cars_dashboard.c1.spec(user_supplied_vega_spec)\n",
    "# or at the beginning\n",
    "cars_dashboard = m.draw(df, user_supplied_vega_spec)"
   ]
  },
  {
   "cell_type": "markdown",
   "metadata": {},
   "source": [
    "### 💥accessing the data of selections and charts for programming"
   ]
  },
  {
   "cell_type": "code",
   "execution_count": null,
   "metadata": {},
   "outputs": [],
   "source": [
    "cars_dashboard.c1.data"
   ]
  },
  {
   "cell_type": "markdown",
   "metadata": {},
   "source": [
    "![df](img/df.png)"
   ]
  },
  {
   "cell_type": "code",
   "execution_count": null,
   "metadata": {},
   "outputs": [],
   "source": [
    "cars_dashboard.c1.selection.func\n",
    "# returns \n",
    "#   {selectionType: \"range\", min: 2011, max: 2012}\n",
    "#   {selectionType: \"point\", val: 2011}"
   ]
  },
  {
   "cell_type": "code",
   "execution_count": null,
   "metadata": {},
   "outputs": [],
   "source": [
    "cars_dashboard.c1.selection.data\n",
    "# returns a dataframe of all the data selected, the direct points, e.g., year and amount"
   ]
  },
  {
   "cell_type": "markdown",
   "metadata": {},
   "source": [
    "### 💥 (basic) lineage"
   ]
  },
  {
   "cell_type": "code",
   "execution_count": null,
   "metadata": {},
   "outputs": [],
   "source": [
    "cars_dashboard.c1.selection.sourced_data\n",
    "# returns a dataframe of the original, e.g, the year, miles_per_gallon, cylinders etc.\n",
    "# effectively lineage"
   ]
  },
  {
   "cell_type": "code",
   "execution_count": null,
   "metadata": {},
   "outputs": [],
   "source": [
    "# if there are multiple charts, then each chart will be named\n",
    "cars_dashboard.c1.selection\n",
    "# similarly\n",
    "cars_dashboard.c1.spec(user_supplied_vega_spec)"
   ]
  },
  {
   "cell_type": "code",
   "execution_count": null,
   "metadata": {},
   "outputs": [],
   "source": [
    "cars_dashboard.addChart(df['cylinders', 'year'])"
   ]
  },
  {
   "cell_type": "markdown",
   "metadata": {},
   "source": [
    "![df](img/dash3.png)"
   ]
  },
  {
   "cell_type": "markdown",
   "metadata": {},
   "source": [
    "### 💥easy inferred interactivity"
   ]
  },
  {
   "cell_type": "code",
   "execution_count": null,
   "metadata": {},
   "outputs": [],
   "source": [
    "cars_dashboard.link(c1, c2)\n",
    "# then the two charts in the dashboard becomes linked\n",
    "# easily achieved by modifying the vega spec\n",
    ".facet_by()"
   ]
  },
  {
   "cell_type": "markdown",
   "metadata": {},
   "source": [
    "### 💥interactivity via `.selection.data`\n",
    "This is helpful when the developer wants to do more advanced manipulation of the selected data. For instance, run the car models selected in some black-box python functions that implement prediction algorithms"
   ]
  },
  {
   "cell_type": "code",
   "execution_count": null,
   "metadata": {},
   "outputs": [],
   "source": [
    "def predicted_df(df):\n",
    "    # do something \n",
    "    newdf\n",
    "    return newdf\n",
    "\n",
    "# addChart is overloaded\n",
    "# it renders a new chart by running the function predicted_df on c1\n",
    "cars_dashboard.addChart(\"c1\", predicted_df)"
   ]
  },
  {
   "cell_type": "markdown",
   "metadata": {},
   "source": [
    "### Why interactions in notebooks\n",
    "*why not just type?*\n",
    "\n",
    "Hypothesis:\n",
    "* tighten the loop, fast\n",
    "* how broadly are the datasets covered\n",
    "  * e.g. xfilter can see more dimensions (vs sets of small multiples & 3d plots) -> conclusion: higher dim data\n",
    "* finding something not planned (some ambiguity)\n",
    "  * tension between explicit spec (common in notebooks) vs inferring from context\n",
    "  * look through vega(-lite) library for inspirations\n",
    "\n",
    "Value prop:\n",
    "* seamless addition, another modality (in addition to coding)\n",
    "  * reactivity vs interactivity\n",
    "  * constantly supplying visualizations relevant to the program at the moment\n",
    "\n",
    "Notebooks?\n",
    "* notebooks are for publishing (notes)\n",
    "* notebooks have sessions\n",
    "  * animation? frames of transitions of dfs\n",
    "  * input/output of cells\n",
    "\n",
    "\n",
    "ways to brainstorm features\n",
    "* leverage context\n",
    "   * what is context??? e.g., trafacta extrapolating steps\n",
    "   * look at the history of code, and take out columns people look at, and show these visualizations\n",
    "* think more like a data scientist (less constrained by existing algebras)\n",
    "* ask users, tensor board, vis while iterating on model dev\n",
    "* there is a class of interactions that are not named e.g., \"brushing\"\n",
    "\n",
    "key contributions\n",
    "* model\n",
    "    * why the model is good\n",
    "    * integrating with vega & distilling new deltas\n",
    "* interactions in notebooks\n",
    "    \n",
    "novelty?\n",
    "* v observableHQ -- context: grammar & history\n",
    "* v voyager --- still have to specify the wildcard and where to put it\n",
    "\n",
    "### How to expose interaction history"
   ]
  },
  {
   "cell_type": "markdown",
   "metadata": {},
   "source": [
    "## User Analysis\n",
    "We will show how _Midas_ can link across different data sources"
   ]
  },
  {
   "cell_type": "code",
   "execution_count": null,
   "metadata": {},
   "outputs": [],
   "source": []
  }
 ],
 "metadata": {
  "kernelspec": {
   "display_name": "Python 3",
   "language": "python",
   "name": "python3"
  },
  "language_info": {
   "codemirror_mode": {
    "name": "ipython",
    "version": 3
   },
   "file_extension": ".py",
   "mimetype": "text/x-python",
   "name": "python",
   "nbconvert_exporter": "python",
   "pygments_lexer": "ipython3",
   "version": "3.7.1"
  }
 },
 "nbformat": 4,
 "nbformat_minor": 2
}
