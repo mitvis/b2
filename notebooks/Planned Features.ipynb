{
 "cells": [
  {
   "cell_type": "code",
   "execution_count": 2,
   "metadata": {},
   "outputs": [],
   "source": [
    "%load_ext autoreload\n",
    "%autoreload 2 "
   ]
  },
  {
   "cell_type": "code",
   "execution_count": 1,
   "metadata": {},
   "outputs": [
    {
     "name": "stdout",
     "output_type": "stream",
     "text": [
      "Initiated Midas\n"
     ]
    }
   ],
   "source": [
    "from midas import Midas\n",
    "m = Midas()"
   ]
  },
  {
   "cell_type": "code",
   "execution_count": 2,
   "metadata": {},
   "outputs": [
    {
     "name": "stdout",
     "output_type": "stream",
     "text": [
      "showing visualization\n"
     ]
    }
   ],
   "source": [
    "df = m.read_json('cars.json', 'cars')"
   ]
  },
  {
   "cell_type": "code",
   "execution_count": 4,
   "metadata": {},
   "outputs": [
    {
     "name": "stdout",
     "output_type": "stream",
     "text": [
      "cars\n",
      "#2 received register signal selectionRange \n",
      "            var __m_val_str = JSON.stringify(value);\n",
      "            var pythonCommand = `\n",
      "                from json import loads\n",
      "                from pandas import DataFrame\n",
      "                __m_loaded_data = loads('${__m_val_str}')\n",
      "                __m_select_df = DataFrame(__m_loaded_data, index=[0])\n",
      "                m.df(\"cars\").selection=__m_select_df\n",
      "            `;\n",
      "            console.log('pythonCommand', pythonCommand);\n",
      "            IPython.notebook.kernel.execute(pythonCommand);\n",
      "        \n"
     ]
    }
   ],
   "source": [
    "# the show me style rendering could be more intelligent...\n",
    "w = m.get_current_widget()"
   ]
  },
  {
   "cell_type": "code",
   "execution_count": 5,
   "metadata": {},
   "outputs": [
    {
     "data": {
      "application/vnd.jupyter.widget-view+json": {
       "model_id": "aca659cb940d4a8594b1cf126de971f6",
       "version_major": 2,
       "version_minor": 0
      },
      "text/plain": [
       "MidasWidget()"
      ]
     },
     "metadata": {},
     "output_type": "display_data"
    }
   ],
   "source": [
    "w"
   ]
  },
  {
   "cell_type": "markdown",
   "metadata": {},
   "source": [
    "## Car Analysis"
   ]
  },
  {
   "cell_type": "code",
   "execution_count": 3,
   "metadata": {},
   "outputs": [
    {
     "ename": "AttributeError",
     "evalue": "'MyClass' object has no attribute '__name__'",
     "output_type": "error",
     "traceback": [
      "\u001b[0;31m---------------------------------------------------------------------------\u001b[0m",
      "\u001b[0;31mAttributeError\u001b[0m                            Traceback (most recent call last)",
      "\u001b[0;32m<ipython-input-3-ca41a2a54781>\u001b[0m in \u001b[0;36m<module>\u001b[0;34m\u001b[0m\n\u001b[0;32m----> 1\u001b[0;31m \u001b[0ma\u001b[0m\u001b[0;34m.\u001b[0m\u001b[0mget_name\u001b[0m\u001b[0;34m(\u001b[0m\u001b[0;34m)\u001b[0m\u001b[0;34m\u001b[0m\u001b[0;34m\u001b[0m\u001b[0m\n\u001b[0m",
      "\u001b[0;32m<ipython-input-2-36cccfe95490>\u001b[0m in \u001b[0;36mget_name\u001b[0;34m(self)\u001b[0m\n\u001b[1;32m      3\u001b[0m \u001b[0;34m\u001b[0m\u001b[0m\n\u001b[1;32m      4\u001b[0m     \u001b[0;32mdef\u001b[0m \u001b[0mget_name\u001b[0m\u001b[0;34m(\u001b[0m\u001b[0mself\u001b[0m\u001b[0;34m)\u001b[0m\u001b[0;34m:\u001b[0m\u001b[0;34m\u001b[0m\u001b[0;34m\u001b[0m\u001b[0m\n\u001b[0;32m----> 5\u001b[0;31m         \u001b[0;32mreturn\u001b[0m \u001b[0mself\u001b[0m\u001b[0;34m.\u001b[0m\u001b[0m__name__\u001b[0m\u001b[0;34m\u001b[0m\u001b[0;34m\u001b[0m\u001b[0m\n\u001b[0m\u001b[1;32m      6\u001b[0m \u001b[0;34m\u001b[0m\u001b[0m\n\u001b[1;32m      7\u001b[0m \u001b[0ma\u001b[0m \u001b[0;34m=\u001b[0m \u001b[0mMyClass\u001b[0m\u001b[0;34m(\u001b[0m\u001b[0;34m)\u001b[0m\u001b[0;34m\u001b[0m\u001b[0;34m\u001b[0m\u001b[0m\n",
      "\u001b[0;31mAttributeError\u001b[0m: 'MyClass' object has no attribute '__name__'"
     ]
    }
   ],
   "source": [
    "a.get_name()"
   ]
  },
  {
   "cell_type": "code",
   "execution_count": null,
   "metadata": {},
   "outputs": [],
   "source": [
    "# centralized state so that we can coordinate across charts\n",
    "m = Midas()"
   ]
  },
  {
   "cell_type": "markdown",
   "metadata": {},
   "source": [
    "### 💥showme like visual dashboard to support basic interactive visualizations"
   ]
  },
  {
   "cell_type": "code",
   "execution_count": null,
   "metadata": {},
   "outputs": [],
   "source": [
    "# this will show a simple interactive chart where we can select columns to visualize, facet etc.\n",
    "cars_dashboard = m.draw(df)"
   ]
  },
  {
   "cell_type": "markdown",
   "metadata": {},
   "source": [
    "![title](img/chart_dashboard2.png)"
   ]
  },
  {
   "cell_type": "markdown",
   "metadata": {},
   "source": [
    "### 💥manual specification if developer wants to intervene"
   ]
  },
  {
   "cell_type": "code",
   "execution_count": null,
   "metadata": {},
   "outputs": [],
   "source": [
    "# if they want to customize, very easy\n",
    "# modify\n",
    "cars_dashboard.c1.spec(user_supplied_vega_spec)\n",
    "# or at the beginning\n",
    "cars_dashboard = m.draw(df, user_supplied_vega_spec)"
   ]
  },
  {
   "cell_type": "markdown",
   "metadata": {},
   "source": [
    "### 💥accessing the data of selections and charts for programming"
   ]
  },
  {
   "cell_type": "code",
   "execution_count": null,
   "metadata": {},
   "outputs": [],
   "source": [
    "cars_dashboard.c1.data"
   ]
  },
  {
   "cell_type": "markdown",
   "metadata": {},
   "source": [
    "![df](img/df.png)"
   ]
  },
  {
   "cell_type": "code",
   "execution_count": null,
   "metadata": {},
   "outputs": [],
   "source": [
    "cars_dashboard.c1.selection.func\n",
    "# returns \n",
    "#   {selectionType: \"range\", min: 2011, max: 2012}\n",
    "#   {selectionType: \"point\", val: 2011}"
   ]
  },
  {
   "cell_type": "code",
   "execution_count": null,
   "metadata": {},
   "outputs": [],
   "source": [
    "cars_dashboard.c1.selection.data\n",
    "# returns a dataframe of all the data selected, the direct points, e.g., year and amount"
   ]
  },
  {
   "cell_type": "markdown",
   "metadata": {},
   "source": [
    "### 💥 (basic) lineage"
   ]
  },
  {
   "cell_type": "code",
   "execution_count": null,
   "metadata": {},
   "outputs": [],
   "source": [
    "cars_dashboard.c1.selection.sourced_data\n",
    "# returns a dataframe of the original, e.g, the year, miles_per_gallon, cylinders etc.\n",
    "# effectively lineage"
   ]
  },
  {
   "cell_type": "code",
   "execution_count": null,
   "metadata": {},
   "outputs": [],
   "source": [
    "# if there are multiple charts, then each chart will be named\n",
    "cars_dashboard.c1.selection\n",
    "# similarly\n",
    "cars_dashboard.c1.spec(user_supplied_vega_spec)"
   ]
  },
  {
   "cell_type": "code",
   "execution_count": null,
   "metadata": {},
   "outputs": [],
   "source": [
    "cars_dashboard.addChart(df['cylinders', 'year'])"
   ]
  },
  {
   "cell_type": "markdown",
   "metadata": {},
   "source": [
    "![df](img/dash3.png)"
   ]
  },
  {
   "cell_type": "markdown",
   "metadata": {},
   "source": [
    "### 💥easy inferred interactivity"
   ]
  },
  {
   "cell_type": "code",
   "execution_count": null,
   "metadata": {},
   "outputs": [],
   "source": [
    "cars_dashboard.link(c1, c2)\n",
    "# then the two charts in the dashboard becomes linked\n",
    "# easily achieved by modifying the vega spec\n",
    ".facet_by()"
   ]
  },
  {
   "cell_type": "markdown",
   "metadata": {},
   "source": [
    "### 💥interactivity via `.selection.data`\n",
    "This is helpful when the developer wants to do more advanced manipulation of the selected data. For instance, run the car models selected in some black-box python functions that implement prediction algorithms"
   ]
  },
  {
   "cell_type": "code",
   "execution_count": null,
   "metadata": {},
   "outputs": [],
   "source": [
    "def predicted_df(df):\n",
    "    # do something \n",
    "    newdf\n",
    "    return newdf\n",
    "\n",
    "# addChart is overloaded\n",
    "# it renders a new chart by running the function predicted_df on c1\n",
    "cars_dashboard.addChart(\"c1\", predicted_df)"
   ]
  },
  {
   "cell_type": "markdown",
   "metadata": {},
   "source": [
    "### Why interactions in notebooks\n",
    "*why not just type?*\n",
    "\n",
    "Hypothesis:\n",
    "* tighten the loop, fast\n",
    "* how broadly are the datasets covered\n",
    "  * e.g. xfilter can see more dimensions (vs sets of small multiples & 3d plots) -> conclusion: higher dim data\n",
    "* finding something not planned (some ambiguity)\n",
    "  * tension between explicit spec (common in notebooks) vs inferring from context\n",
    "  * look through vega(-lite) library for inspirations\n",
    "\n",
    "Value prop:\n",
    "* seamless addition, another modality (in addition to coding)\n",
    "  * reactivity vs interactivity\n",
    "  * constantly supplying visualizations relevant to the program at the moment\n",
    "\n",
    "Notebooks?\n",
    "* notebooks are for publishing (notes)\n",
    "* notebooks have sessions\n",
    "  * animation? frames of transitions of dfs\n",
    "  * input/output of cells\n",
    "\n",
    "\n",
    "ways to brainstorm features\n",
    "* leverage context\n",
    "   * what is context??? e.g., trafacta extrapolating steps\n",
    "   * look at the history of code, and take out columns people look at, and show these visualizations\n",
    "* think more like a data scientist (less constrained by existing algebras)\n",
    "* ask users, tensor board, vis while iterating on model dev\n",
    "* there is a class of interactions that are not named e.g., \"brushing\"\n",
    "\n",
    "key contributions\n",
    "* model\n",
    "    * why the model is good\n",
    "    * integrating with vega & distilling new deltas\n",
    "* interactions in notebooks\n",
    "    \n",
    "novelty?\n",
    "* v observableHQ -- context: grammar & history\n",
    "* v voyager --- still have to specify the wildcard and where to put it\n",
    "\n",
    "### How to expose interaction history"
   ]
  },
  {
   "cell_type": "markdown",
   "metadata": {},
   "source": [
    "## User Analysis\n",
    "We will show how _Midas_ can link across different data sources"
   ]
  },
  {
   "cell_type": "code",
   "execution_count": null,
   "metadata": {},
   "outputs": [],
   "source": []
  }
 ],
 "metadata": {
  "kernelspec": {
   "display_name": "Python 3",
   "language": "python",
   "name": "python3"
  },
  "language_info": {
   "codemirror_mode": {
    "name": "ipython",
    "version": 3
   },
   "file_extension": ".py",
   "mimetype": "text/x-python",
   "name": "python",
   "nbconvert_exporter": "python",
   "pygments_lexer": "ipython3",
   "version": "3.7.1"
  }
 },
 "nbformat": 4,
 "nbformat_minor": 2
}
