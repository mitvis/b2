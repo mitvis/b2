{
 "cells": [
  {
   "cell_type": "code",
   "execution_count": null,
   "metadata": {},
   "outputs": [],
   "source": [
    "# Please enter the pid as assigned to you\n",
    "pid = "
   ]
  },
  {
   "cell_type": "code",
   "execution_count": 73,
   "metadata": {
    "code_folding": []
   },
   "outputs": [],
   "source": [
    "# setup\n",
    "import ipywidgets as widgets\n",
    "from ipywidgets import HBox, Layout\n",
    "from IPython.display import Markdown\n",
    "# open the connections so we can store our data\n",
    "import sqlite3\n",
    "path = \"/Users/yifanwu/Dev/midas/experiment/survey.sqlite\"\n",
    "con = sqlite3.connect(path)\n",
    "cur = con.cursor()\n",
    "\n",
    "OPTIONS = ['Very useful', 'Somewhat useful', 'Not useful', 'No basis to answer']\n",
    "DEFAULT = 'Somewhat useful'\n",
    "\n",
    "def get_radio(description):\n",
    "    r = widgets.RadioButtons(\n",
    "        options=OPTIONS,\n",
    "        value=DEFAULT,\n",
    "        description=description,\n",
    "    )\n",
    "    a = widgets.Textarea(description=\"Comments:\")\n",
    "    display(Markdown(f\"### {description}\"))\n",
    "    display(HBox([r, a]))\n",
    "    return r, a\n",
    "\n",
    "def get_use_checkbox():\n",
    "    \n",
    "\n",
    "def save_answer(q, r, a):\n",
    "    insert = f\"insert into response values ('{q}', '{r}', '{a}', '{pid}')\"\n",
    "    cur.execute(insert)\n",
    "    con.commit()"
   ]
  },
  {
   "cell_type": "markdown",
   "metadata": {},
   "source": [
    "# Experience with Midas"
   ]
  },
  {
   "cell_type": "code",
   "execution_count": 74,
   "metadata": {},
   "outputs": [
    {
     "data": {
      "text/markdown": [
       "### I would use Midas for my future data analysis needs"
      ],
      "text/plain": [
       "<IPython.core.display.Markdown object>"
      ]
     },
     "metadata": {},
     "output_type": "display_data"
    },
    {
     "data": {
      "application/vnd.jupyter.widget-view+json": {
       "model_id": "ec0be738dd2b4c3980f9ea13ebf94620",
       "version_major": 2,
       "version_minor": 0
      },
      "text/plain": [
       "HBox(children=(RadioButtons(description='I would use Midas for my future data analysis needs', index=1, option…"
      ]
     },
     "metadata": {},
     "output_type": "display_data"
    }
   ],
   "source": [
    "q1 = \"How do you find the Midas extension?\"\n",
    "r,a = get_radio(q1)"
   ]
  },
  {
   "cell_type": "code",
   "execution_count": 64,
   "metadata": {},
   "outputs": [
    {
     "name": "stdout",
     "output_type": "stream",
     "text": [
      "insert into response values ('I would use Midas for my future data analysis needs', 'Slightly Disagree', '', '4')\n"
     ]
    }
   ],
   "source": [
    "save_answer(q1, r.value, a.value)"
   ]
  },
  {
   "cell_type": "code",
   "execution_count": null,
   "metadata": {},
   "outputs": [],
   "source": [
    "q2 = \"How do you find the brush-linked interactive visualization?\"\n",
    "r,a = get_radio(q2)"
   ]
  },
  {
   "cell_type": "code",
   "execution_count": null,
   "metadata": {},
   "outputs": [],
   "source": [
    "save_answer(q2, r.value, a.value)"
   ]
  },
  {
   "cell_type": "code",
   "execution_count": null,
   "metadata": {},
   "outputs": [],
   "source": [
    "q = \"How do you find the programmatic access to the selections?\"\n",
    "r,a = get_radio(q)"
   ]
  },
  {
   "cell_type": "code",
   "execution_count": null,
   "metadata": {},
   "outputs": [],
   "source": [
    "save_answer(q, r.value, a.value)"
   ]
  },
  {
   "cell_type": "code",
   "execution_count": null,
   "metadata": {},
   "outputs": [],
   "source": [
    "q = \"Do you think Midas changes how you perform data analysis? If so, in what way?\"\n",
    "r,a = get_radio(q)"
   ]
  },
  {
   "cell_type": "markdown",
   "metadata": {},
   "source": [
    "# Prior Data Analysis Experience"
   ]
  },
  {
   "cell_type": "code",
   "execution_count": null,
   "metadata": {},
   "outputs": [],
   "source": [
    "q = \"How often do you use visualizations ?\"\n",
    "r,a = get_radio(q)"
   ]
  }
 ],
 "metadata": {
  "kernelspec": {
   "display_name": "Python 3",
   "language": "python",
   "name": "python3"
  },
  "language_info": {
   "codemirror_mode": {
    "name": "ipython",
    "version": 3
   },
   "file_extension": ".py",
   "mimetype": "text/x-python",
   "name": "python",
   "nbconvert_exporter": "python",
   "pygments_lexer": "ipython3",
   "version": "3.7.4"
  }
 },
 "nbformat": 4,
 "nbformat_minor": 2
}
