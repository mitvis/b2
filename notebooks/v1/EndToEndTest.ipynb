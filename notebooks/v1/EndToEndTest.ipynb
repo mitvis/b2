{
 "cells": [
  {
   "cell_type": "code",
   "execution_count": 1,
   "metadata": {},
   "outputs": [],
   "source": [
    "%load_ext autoreload\n",
    "%autoreload 2"
   ]
  },
  {
   "cell_type": "code",
   "execution_count": 2,
   "metadata": {},
   "outputs": [
    {
     "name": "stdout",
     "output_type": "stream",
     "text": [
      "\u001b[93mfound name m\u001b[0m\n"
     ]
    }
   ],
   "source": [
    "from midas import Midas\n",
    "m = Midas()"
   ]
  },
  {
   "cell_type": "code",
   "execution_count": 3,
   "metadata": {},
   "outputs": [],
   "source": [
    "raw = [\n",
    "  'a', [1,2,3,4,5,6,7,8,9,10],\n",
    "  'b', [10,20,30,40,50,60,70,80,90,100],\n",
    "  'c', [100,200,300,400,500,600,700,800,900,1000]\n",
    "]"
   ]
  },
  {
   "cell_type": "code",
   "execution_count": 6,
   "metadata": {},
   "outputs": [],
   "source": [
    "import numpy as np\n",
    "mu, sigma = 10, 1 # mean and standard deviation\n",
    "s = np.random.normal(mu, sigma, 100)"
   ]
  },
  {
   "cell_type": "code",
   "execution_count": 7,
   "metadata": {},
   "outputs": [],
   "source": [
    "raw = [\n",
    "  'a', s,\n",
    "  'b', s * 2,\n",
    "  'c', s * 3\n",
    "]"
   ]
  },
  {
   "cell_type": "code",
   "execution_count": 8,
   "metadata": {},
   "outputs": [
    {
     "name": "stdout",
     "output_type": "stream",
     "text": [
      "\u001b[93mfound name raw_df\u001b[0m\n",
      "\u001b[93mAdding raw_df to run time\u001b[0m\n",
      "\u001b[93mcreating profile raw_df\u001b[0m\n"
     ]
    }
   ],
   "source": [
    "raw_df = m.with_columns(raw)"
   ]
  },
  {
   "cell_type": "code",
   "execution_count": 11,
   "metadata": {},
   "outputs": [
    {
     "name": "stdout",
     "output_type": "stream",
     "text": [
      "\u001b[93mfound name a_df\u001b[0m\n",
      "\u001b[93mAdding a_df to run time\u001b[0m\n",
      "\u001b[93mcreating chart a_df\u001b[0m\n",
      "\u001b[93mprocessing numeric distribution\u001b[0m\n",
      "bound size 1.0\n",
      "===\n",
      "a    | count\n",
      "7    | 2\n",
      "8    | 16\n",
      "9    | 43\n",
      "10   | 26\n",
      "11   | 11\n",
      "12   | 2\n",
      "floating\n",
      "[False False False False False False]\n",
      "\u001b[93mchanging df a_df value\u001b[0m\n"
     ]
    }
   ],
   "source": [
    "a_df = raw_df.select(['a']) "
   ]
  },
  {
   "cell_type": "code",
   "execution_count": null,
   "metadata": {},
   "outputs": [],
   "source": [
    "m.state.dfs['b_df'].df"
   ]
  },
  {
   "cell_type": "code",
   "execution_count": 12,
   "metadata": {},
   "outputs": [
    {
     "name": "stdout",
     "output_type": "stream",
     "text": [
      "\u001b[93mfound name b_df\u001b[0m\n",
      "\u001b[93mAdding b_df to run time\u001b[0m\n",
      "\u001b[93mcreating chart b_df\u001b[0m\n",
      "\u001b[93mprocessing numeric distribution\u001b[0m\n",
      "bound size 2\n",
      "===\n",
      "b    | count\n",
      "14   | 2\n",
      "16   | 16\n",
      "18   | 43\n",
      "20   | 26\n",
      "22   | 11\n",
      "24   | 2\n",
      "\u001b[93mfound name c_df\u001b[0m\n",
      "\u001b[93mAdding c_df to run time\u001b[0m\n",
      "\u001b[93mcreating chart c_df\u001b[0m\n",
      "\u001b[93mprocessing numeric distribution\u001b[0m\n",
      "bound size 5\n",
      "===\n",
      "c    | count\n",
      "20   | 4\n",
      "25   | 57\n",
      "30   | 35\n",
      "35   | 4\n"
     ]
    }
   ],
   "source": [
    "b_df = raw_df.select(['b'])\n",
    "c_df = raw_df.select(['c'])"
   ]
  },
  {
   "cell_type": "code",
   "execution_count": 13,
   "metadata": {},
   "outputs": [
    {
     "name": "stdout",
     "output_type": "stream",
     "text": [
      "\u001b[93mselection is {'x': [8, 9, 10]}\u001b[0m\n",
      "\u001b[92m[tick]\t\tprocessing a_df for predicate{'a_df': df: a_df\n",
      "  predicates: [\n",
      "column:\ta_df.a\n",
      "  minVal:\t8\n",
      "  maxVal:\t10]}\u001b[0m\n",
      "\u001b[93mContext apply_selection called b_df\u001b[0m\n",
      "\u001b[93m[\n",
      "column:\ta_df.a\n",
      "  minVal:\t8\n",
      "  maxVal:\t10]\u001b[0m\n",
      "\u001b[93mprocessing numeric distribution\u001b[0m\n",
      "===\n",
      "b    | count\n",
      "14   | 0\n",
      "16   | 16\n",
      "18   | 43\n",
      "20   | 0\n",
      "22   | 0\n",
      "24   | 0\n",
      "new data\n",
      "[{'b': 14, 'count': 0}, {'b': 16, 'count': 16}, {'b': 18, 'count': 43}, {'b': 20, 'count': 0}, {'b': 22, 'count': 0}, {'b': 24, 'count': 0}]\n",
      "\u001b[93mchanging df b_df value\u001b[0m\n",
      "\u001b[93mContext apply_selection called c_df\u001b[0m\n",
      "\u001b[93m[\n",
      "column:\ta_df.a\n",
      "  minVal:\t8\n",
      "  maxVal:\t10]\u001b[0m\n",
      "\u001b[93mprocessing numeric distribution\u001b[0m\n",
      "===\n",
      "c    | count\n",
      "20   | 2\n",
      "25   | 57\n",
      "30   | 0\n",
      "35   | 0\n",
      "new data\n",
      "[{'c': 20, 'count': 2}, {'c': 25, 'count': 57}, {'c': 30, 'count': 0}, {'c': 35, 'count': 0}]\n",
      "\u001b[93mchanging df c_df value\u001b[0m\n"
     ]
    }
   ],
   "source": [
    "# [MIDAS] You selected the following from a_df at time 11/19/2019, 8:01:15 PM\n",
    "m.add_selection_by_interaction(\"a_df\", {\"x\":[8,9,10]})"
   ]
  },
  {
   "cell_type": "code",
   "execution_count": 14,
   "metadata": {},
   "outputs": [
    {
     "name": "stdout",
     "output_type": "stream",
     "text": [
      "\u001b[93mselection is {'x': [9, 10, 11]}\u001b[0m\n",
      "\u001b[92m[tick]\t\tprocessing a_df for predicate{'a_df': df: a_df\n",
      "  predicates: [\n",
      "column:\ta_df.a\n",
      "  minVal:\t9\n",
      "  maxVal:\t11]}\u001b[0m\n",
      "\u001b[93mContext apply_selection called b_df\u001b[0m\n",
      "\u001b[93m[\n",
      "column:\ta_df.a\n",
      "  minVal:\t9\n",
      "  maxVal:\t11]\u001b[0m\n",
      "\u001b[93mprocessing numeric distribution\u001b[0m\n",
      "===\n",
      "b    | count\n",
      "14   | 0\n",
      "16   | 0\n",
      "18   | 43\n",
      "20   | 26\n",
      "22   | 0\n",
      "24   | 0\n",
      "new data\n",
      "[{'b': 14, 'count': 0}, {'b': 16, 'count': 0}, {'b': 18, 'count': 43}, {'b': 20, 'count': 26}, {'b': 22, 'count': 0}, {'b': 24, 'count': 0}]\n",
      "\u001b[93mchanging df b_df value\u001b[0m\n",
      "\u001b[93mContext apply_selection called c_df\u001b[0m\n",
      "\u001b[93m[\n",
      "column:\ta_df.a\n",
      "  minVal:\t9\n",
      "  maxVal:\t11]\u001b[0m\n",
      "\u001b[93mprocessing numeric distribution\u001b[0m\n",
      "===\n",
      "c    | count\n",
      "20   | 0\n",
      "25   | 43\n",
      "30   | 26\n",
      "35   | 0\n",
      "new data\n",
      "[{'c': 20, 'count': 0}, {'c': 25, 'count': 43}, {'c': 30, 'count': 26}, {'c': 35, 'count': 0}]\n",
      "\u001b[93mchanging df c_df value\u001b[0m\n"
     ]
    }
   ],
   "source": [
    "# [MIDAS] You selected the following from a_df at time 11/19/2019, 8:01:20 PM\n",
    "m.add_selection_by_interaction(\"a_df\", {\"x\":[9,10,11]})"
   ]
  },
  {
   "cell_type": "code",
   "execution_count": 15,
   "metadata": {},
   "outputs": [
    {
     "name": "stdout",
     "output_type": "stream",
     "text": [
      "\u001b[93mselection is {'x': [10, 11, 12]}\u001b[0m\n",
      "\u001b[92m[tick]\t\tprocessing a_df for predicate{'a_df': df: a_df\n",
      "  predicates: [\n",
      "column:\ta_df.a\n",
      "  minVal:\t10\n",
      "  maxVal:\t12]}\u001b[0m\n",
      "\u001b[93mContext apply_selection called b_df\u001b[0m\n",
      "\u001b[93m[\n",
      "column:\ta_df.a\n",
      "  minVal:\t10\n",
      "  maxVal:\t12]\u001b[0m\n",
      "\u001b[93mprocessing numeric distribution\u001b[0m\n",
      "===\n",
      "b    | count\n",
      "14   | 0\n",
      "16   | 0\n",
      "18   | 0\n",
      "20   | 26\n",
      "22   | 11\n",
      "24   | 0\n",
      "new data\n",
      "[{'b': 14, 'count': 0}, {'b': 16, 'count': 0}, {'b': 18, 'count': 0}, {'b': 20, 'count': 26}, {'b': 22, 'count': 11}, {'b': 24, 'count': 0}]\n",
      "\u001b[93mchanging df b_df value\u001b[0m\n",
      "\u001b[93mContext apply_selection called c_df\u001b[0m\n",
      "\u001b[93m[\n",
      "column:\ta_df.a\n",
      "  minVal:\t10\n",
      "  maxVal:\t12]\u001b[0m\n",
      "\u001b[93mprocessing numeric distribution\u001b[0m\n",
      "===\n",
      "c    | count\n",
      "20   | 0\n",
      "25   | 0\n",
      "30   | 35\n",
      "35   | 2\n",
      "new data\n",
      "[{'c': 20, 'count': 0}, {'c': 25, 'count': 0}, {'c': 30, 'count': 35}, {'c': 35, 'count': 2}]\n",
      "\u001b[93mchanging df c_df value\u001b[0m\n"
     ]
    }
   ],
   "source": [
    "# [MIDAS] You selected the following from a_df at time 11/19/2019, 8:01:21 PM\n",
    "m.add_selection_by_interaction(\"a_df\", {\"x\":[10,11,12]})"
   ]
  },
  {
   "cell_type": "code",
   "execution_count": 16,
   "metadata": {},
   "outputs": [
    {
     "name": "stdout",
     "output_type": "stream",
     "text": [
      "\u001b[93mselection is {'x': [8, 9, 10]}\u001b[0m\n",
      "\u001b[92m[tick]\t\tprocessing a_df for predicate{'a_df': df: a_df\n",
      "  predicates: [\n",
      "column:\ta_df.a\n",
      "  minVal:\t8\n",
      "  maxVal:\t10]}\u001b[0m\n",
      "\u001b[93mContext apply_selection called b_df\u001b[0m\n",
      "\u001b[93m[\n",
      "column:\ta_df.a\n",
      "  minVal:\t8\n",
      "  maxVal:\t10]\u001b[0m\n",
      "new data\n",
      "[{'b': 14, 'count': 0}, {'b': 16, 'count': 16}, {'b': 18, 'count': 43}, {'b': 20, 'count': 0}, {'b': 22, 'count': 0}, {'b': 24, 'count': 0}]\n",
      "\u001b[93mchanging df b_df value\u001b[0m\n",
      "\u001b[93mContext apply_selection called c_df\u001b[0m\n",
      "\u001b[93m[\n",
      "column:\ta_df.a\n",
      "  minVal:\t8\n",
      "  maxVal:\t10]\u001b[0m\n",
      "new data\n",
      "[{'c': 20, 'count': 2}, {'c': 25, 'count': 57}, {'c': 30, 'count': 0}, {'c': 35, 'count': 0}]\n",
      "\u001b[93mchanging df c_df value\u001b[0m\n"
     ]
    }
   ],
   "source": [
    "# [MIDAS] You selected the following from a_df at time 11/19/2019, 8:04:54 PM\n",
    "m.add_selection_by_interaction(\"a_df\", {\"x\":[8,9,10]})"
   ]
  },
  {
   "cell_type": "code",
   "execution_count": 17,
   "metadata": {},
   "outputs": [
    {
     "name": "stdout",
     "output_type": "stream",
     "text": [
      "\u001b[93mselection is {'x': [9, 10, 11]}\u001b[0m\n",
      "\u001b[92m[tick]\t\tprocessing a_df for predicate{'a_df': df: a_df\n",
      "  predicates: [\n",
      "column:\ta_df.a\n",
      "  minVal:\t9\n",
      "  maxVal:\t11]}\u001b[0m\n",
      "\u001b[93mContext apply_selection called b_df\u001b[0m\n",
      "\u001b[93m[\n",
      "column:\ta_df.a\n",
      "  minVal:\t9\n",
      "  maxVal:\t11]\u001b[0m\n",
      "new data\n",
      "[{'b': 14, 'count': 0}, {'b': 16, 'count': 0}, {'b': 18, 'count': 43}, {'b': 20, 'count': 26}, {'b': 22, 'count': 0}, {'b': 24, 'count': 0}]\n",
      "\u001b[93mchanging df b_df value\u001b[0m\n",
      "\u001b[93mContext apply_selection called c_df\u001b[0m\n",
      "\u001b[93m[\n",
      "column:\ta_df.a\n",
      "  minVal:\t9\n",
      "  maxVal:\t11]\u001b[0m\n",
      "new data\n",
      "[{'c': 20, 'count': 0}, {'c': 25, 'count': 43}, {'c': 30, 'count': 26}, {'c': 35, 'count': 0}]\n",
      "\u001b[93mchanging df c_df value\u001b[0m\n"
     ]
    }
   ],
   "source": [
    "# [MIDAS] You selected the following from a_df at time 11/19/2019, 8:04:55 PM\n",
    "m.add_selection_by_interaction(\"a_df\", {\"x\":[9,10,11]})"
   ]
  },
  {
   "cell_type": "code",
   "execution_count": 18,
   "metadata": {},
   "outputs": [
    {
     "name": "stdout",
     "output_type": "stream",
     "text": [
      "\u001b[93mselection is {'x': [8, 9, 10]}\u001b[0m\n",
      "\u001b[92m[tick]\t\tprocessing a_df for predicate{'a_df': df: a_df\n",
      "  predicates: [\n",
      "column:\ta_df.a\n",
      "  minVal:\t8\n",
      "  maxVal:\t10]}\u001b[0m\n",
      "\u001b[93mContext apply_selection called b_df\u001b[0m\n",
      "\u001b[93m[\n",
      "column:\ta_df.a\n",
      "  minVal:\t8\n",
      "  maxVal:\t10]\u001b[0m\n",
      "new data\n",
      "[{'b': 14, 'count': 0}, {'b': 16, 'count': 16}, {'b': 18, 'count': 43}, {'b': 20, 'count': 0}, {'b': 22, 'count': 0}, {'b': 24, 'count': 0}]\n",
      "\u001b[93mchanging df b_df value\u001b[0m\n",
      "\u001b[93mContext apply_selection called c_df\u001b[0m\n",
      "\u001b[93m[\n",
      "column:\ta_df.a\n",
      "  minVal:\t8\n",
      "  maxVal:\t10]\u001b[0m\n",
      "new data\n",
      "[{'c': 20, 'count': 2}, {'c': 25, 'count': 57}, {'c': 30, 'count': 0}, {'c': 35, 'count': 0}]\n",
      "\u001b[93mchanging df c_df value\u001b[0m\n"
     ]
    }
   ],
   "source": [
    "# [MIDAS] You selected the following from a_df at time 11/19/2019, 8:04:57 PM\n",
    "m.add_selection_by_interaction(\"a_df\", {\"x\":[8,9,10]})"
   ]
  },
  {
   "cell_type": "code",
   "execution_count": 19,
   "metadata": {},
   "outputs": [
    {
     "name": "stdout",
     "output_type": "stream",
     "text": [
      "\u001b[93mselection is {'x': [11, 12]}\u001b[0m\n",
      "\u001b[92m[tick]\t\tprocessing a_df for predicate{'a_df': df: a_df\n",
      "  predicates: [\n",
      "column:\ta_df.a\n",
      "  minVal:\t11\n",
      "  maxVal:\t12]}\u001b[0m\n",
      "\u001b[93mContext apply_selection called b_df\u001b[0m\n",
      "\u001b[93m[\n",
      "column:\ta_df.a\n",
      "  minVal:\t11\n",
      "  maxVal:\t12]\u001b[0m\n",
      "floating\n",
      "[False False False False False False False False False False False]\n",
      "new data\n",
      "[{'b': 22.06925166738643, 'count': 1}, {'b': 22.279482344849992, 'count': 1}, {'b': 22.299538582628152, 'count': 1}, {'b': 22.362536184164345, 'count': 1}, {'b': 22.393761051873057, 'count': 1}, {'b': 22.523581963316204, 'count': 1}, {'b': 22.876959947168164, 'count': 1}, {'b': 22.91952378014877, 'count': 1}, {'b': 23.15646600340335, 'count': 1}, {'b': 23.44997281420882, 'count': 1}, {'b': 23.743782040137244, 'count': 1}]\n",
      "\u001b[93mchanging df b_df value\u001b[0m\n",
      "\u001b[93mContext apply_selection called c_df\u001b[0m\n",
      "\u001b[93m[\n",
      "column:\ta_df.a\n",
      "  minVal:\t11\n",
      "  maxVal:\t12]\u001b[0m\n",
      "floating\n",
      "[False False False False False False False False False False False]\n",
      "new data\n",
      "[{'c': 33.103877501079644, 'count': 1}, {'c': 33.419223517274986, 'count': 1}, {'c': 33.44930787394223, 'count': 1}, {'c': 33.54380427624652, 'count': 1}, {'c': 33.590641577809585, 'count': 1}, {'c': 33.785372944974306, 'count': 1}, {'c': 34.31543992075225, 'count': 1}, {'c': 34.379285670223155, 'count': 1}, {'c': 34.73469900510502, 'count': 1}, {'c': 35.17495922131323, 'count': 1}, {'c': 35.615673060205864, 'count': 1}]\n",
      "\u001b[93mchanging df c_df value\u001b[0m\n"
     ]
    }
   ],
   "source": [
    "# [MIDAS] You selected the following from a_df at time 11/19/2019, 8:04:58 PM\n",
    "m.add_selection_by_interaction(\"a_df\", {\"x\":[11,12]})"
   ]
  },
  {
   "cell_type": "code",
   "execution_count": 20,
   "metadata": {},
   "outputs": [
    {
     "name": "stdout",
     "output_type": "stream",
     "text": [
      "\u001b[93mselection is {'x': [7, 8, 9]}\u001b[0m\n",
      "\u001b[92m[tick]\t\tprocessing a_df for predicate{'a_df': df: a_df\n",
      "  predicates: [\n",
      "column:\ta_df.a\n",
      "  minVal:\t7\n",
      "  maxVal:\t9]}\u001b[0m\n",
      "\u001b[93mContext apply_selection called b_df\u001b[0m\n",
      "\u001b[93m[\n",
      "column:\ta_df.a\n",
      "  minVal:\t7\n",
      "  maxVal:\t9]\u001b[0m\n",
      "floating\n",
      "[False False False False False False False False False False False False\n",
      " False False False False False False]\n",
      "new data\n",
      "[{'b': 14.76684088074672, 'count': 1}, {'b': 14.819290591807462, 'count': 1}, {'b': 16.283617751909055, 'count': 1}, {'b': 16.42647558415393, 'count': 1}, {'b': 16.810524561130496, 'count': 1}, {'b': 16.973484207609896, 'count': 1}, {'b': 17.021208556886112, 'count': 1}, {'b': 17.204429870407907, 'count': 1}, {'b': 17.229157957561757, 'count': 1}, {'b': 17.294378947660483, 'count': 1}, {'b': 17.31402242882782, 'count': 1}, {'b': 17.34249668598666, 'count': 1}, {'b': 17.59641959573384, 'count': 1}, {'b': 17.62751530259863, 'count': 1}, {'b': 17.687666515140542, 'count': 1}, {'b': 17.954561286584777, 'count': 1}, {'b': 17.985221224641595, 'count': 1}, {'b': 17.988096386799857, 'count': 1}]\n",
      "\u001b[93mchanging df b_df value\u001b[0m\n",
      "\u001b[93mContext apply_selection called c_df\u001b[0m\n",
      "\u001b[93m[\n",
      "column:\ta_df.a\n",
      "  minVal:\t7\n",
      "  maxVal:\t9]\u001b[0m\n",
      "floating\n",
      "[False False False False False False False False False False False False\n",
      " False False False False False False]\n",
      "new data\n",
      "[{'c': 22.15026132112008, 'count': 1}, {'c': 22.228935887711195, 'count': 1}, {'c': 24.425426627863583, 'count': 1}, {'c': 24.639713376230894, 'count': 1}, {'c': 25.215786841695746, 'count': 1}, {'c': 25.460226311414843, 'count': 1}, {'c': 25.53181283532917, 'count': 1}, {'c': 25.80664480561186, 'count': 1}, {'c': 25.843736936342637, 'count': 1}, {'c': 25.941568421490725, 'count': 1}, {'c': 25.97103364324173, 'count': 1}, {'c': 26.01374502897999, 'count': 1}, {'c': 26.39462939360076, 'count': 1}, {'c': 26.441272953897947, 'count': 1}, {'c': 26.531499772710813, 'count': 1}, {'c': 26.931841929877166, 'count': 1}, {'c': 26.977831836962395, 'count': 1}, {'c': 26.982144580199787, 'count': 1}]\n",
      "\u001b[93mchanging df c_df value\u001b[0m\n"
     ]
    }
   ],
   "source": [
    "# [MIDAS] You selected the following from a_df at time 11/19/2019, 8:05:00 PM\n",
    "m.add_selection_by_interaction(\"a_df\", {\"x\":[7,8,9]})"
   ]
  },
  {
   "cell_type": "code",
   "execution_count": 21,
   "metadata": {},
   "outputs": [
    {
     "name": "stdout",
     "output_type": "stream",
     "text": [
      "\u001b[93mselection is {'x': [7, 8, 9]}\u001b[0m\n",
      "\u001b[92m[tick]\t\tprocessing a_df for predicate{'a_df': df: a_df\n",
      "  predicates: [\n",
      "column:\ta_df.a\n",
      "  minVal:\t7\n",
      "  maxVal:\t9]}\u001b[0m\n",
      "\u001b[93mContext apply_selection called b_df\u001b[0m\n",
      "\u001b[93m[\n",
      "column:\ta_df.a\n",
      "  minVal:\t7\n",
      "  maxVal:\t9]\u001b[0m\n",
      "floating\n",
      "[False False False False False False False False False False False False\n",
      " False False False False False False]\n",
      "new data\n",
      "[{'b': 14.76684088074672, 'count': 1}, {'b': 14.819290591807462, 'count': 1}, {'b': 16.283617751909055, 'count': 1}, {'b': 16.42647558415393, 'count': 1}, {'b': 16.810524561130496, 'count': 1}, {'b': 16.973484207609896, 'count': 1}, {'b': 17.021208556886112, 'count': 1}, {'b': 17.204429870407907, 'count': 1}, {'b': 17.229157957561757, 'count': 1}, {'b': 17.294378947660483, 'count': 1}, {'b': 17.31402242882782, 'count': 1}, {'b': 17.34249668598666, 'count': 1}, {'b': 17.59641959573384, 'count': 1}, {'b': 17.62751530259863, 'count': 1}, {'b': 17.687666515140542, 'count': 1}, {'b': 17.954561286584777, 'count': 1}, {'b': 17.985221224641595, 'count': 1}, {'b': 17.988096386799857, 'count': 1}]\n",
      "\u001b[93mchanging df b_df value\u001b[0m\n",
      "\u001b[93mContext apply_selection called c_df\u001b[0m\n",
      "\u001b[93m[\n",
      "column:\ta_df.a\n",
      "  minVal:\t7\n",
      "  maxVal:\t9]\u001b[0m\n",
      "floating\n",
      "[False False False False False False False False False False False False\n",
      " False False False False False False]\n",
      "new data\n",
      "[{'c': 22.15026132112008, 'count': 1}, {'c': 22.228935887711195, 'count': 1}, {'c': 24.425426627863583, 'count': 1}, {'c': 24.639713376230894, 'count': 1}, {'c': 25.215786841695746, 'count': 1}, {'c': 25.460226311414843, 'count': 1}, {'c': 25.53181283532917, 'count': 1}, {'c': 25.80664480561186, 'count': 1}, {'c': 25.843736936342637, 'count': 1}, {'c': 25.941568421490725, 'count': 1}, {'c': 25.97103364324173, 'count': 1}, {'c': 26.01374502897999, 'count': 1}, {'c': 26.39462939360076, 'count': 1}, {'c': 26.441272953897947, 'count': 1}, {'c': 26.531499772710813, 'count': 1}, {'c': 26.931841929877166, 'count': 1}, {'c': 26.977831836962395, 'count': 1}, {'c': 26.982144580199787, 'count': 1}]\n",
      "\u001b[93mchanging df c_df value\u001b[0m\n"
     ]
    }
   ],
   "source": [
    "# [MIDAS] You selected the following from a_df at time 11/19/2019, 8:05:00 PM\n",
    "m.add_selection_by_interaction(\"a_df\", {\"x\":[7,8,9]})"
   ]
  },
  {
   "cell_type": "code",
   "execution_count": 22,
   "metadata": {},
   "outputs": [
    {
     "name": "stdout",
     "output_type": "stream",
     "text": [
      "\u001b[93mselection is {'x': [10, 11, 12]}\u001b[0m\n",
      "\u001b[92m[tick]\t\tprocessing a_df for predicate{'a_df': df: a_df\n",
      "  predicates: [\n",
      "column:\ta_df.a\n",
      "  minVal:\t10\n",
      "  maxVal:\t12]}\u001b[0m\n",
      "\u001b[93mContext apply_selection called b_df\u001b[0m\n",
      "\u001b[93m[\n",
      "column:\ta_df.a\n",
      "  minVal:\t10\n",
      "  maxVal:\t12]\u001b[0m\n",
      "new data\n",
      "[{'b': 14, 'count': 0}, {'b': 16, 'count': 0}, {'b': 18, 'count': 0}, {'b': 20, 'count': 26}, {'b': 22, 'count': 11}, {'b': 24, 'count': 0}]\n",
      "\u001b[93mchanging df b_df value\u001b[0m\n",
      "\u001b[93mContext apply_selection called c_df\u001b[0m\n",
      "\u001b[93m[\n",
      "column:\ta_df.a\n",
      "  minVal:\t10\n",
      "  maxVal:\t12]\u001b[0m\n",
      "new data\n",
      "[{'c': 20, 'count': 0}, {'c': 25, 'count': 0}, {'c': 30, 'count': 35}, {'c': 35, 'count': 2}]\n",
      "\u001b[93mchanging df c_df value\u001b[0m\n"
     ]
    }
   ],
   "source": [
    "# [MIDAS] You selected the following from a_df at time 11/19/2019, 8:05:03 PM\n",
    "m.add_selection_by_interaction(\"a_df\", {\"x\":[10,11,12]})"
   ]
  },
  {
   "cell_type": "code",
   "execution_count": 23,
   "metadata": {},
   "outputs": [
    {
     "name": "stdout",
     "output_type": "stream",
     "text": [
      "\u001b[93mselection is {'x': [12]}\u001b[0m\n",
      "\u001b[92m[tick]\t\tprocessing a_df for predicate{'a_df': df: a_df\n",
      "  predicates: [\n",
      "column:\ta_df.a\n",
      "  minVal:\t12\n",
      "  maxVal:\t12]}\u001b[0m\n",
      "\u001b[93mContext apply_selection called b_df\u001b[0m\n",
      "\u001b[93m[\n",
      "column:\ta_df.a\n",
      "  minVal:\t12\n",
      "  maxVal:\t12]\u001b[0m\n",
      "floating\n",
      "[]\n",
      "floating\n",
      "[]\n",
      "new data\n",
      "[]\n",
      "\u001b[93mchanging df b_df value\u001b[0m\n",
      "\u001b[93mContext apply_selection called c_df\u001b[0m\n",
      "\u001b[93m[\n",
      "column:\ta_df.a\n",
      "  minVal:\t12\n",
      "  maxVal:\t12]\u001b[0m\n",
      "floating\n",
      "[]\n",
      "floating\n",
      "[]\n",
      "new data\n",
      "[]\n",
      "\u001b[93mchanging df c_df value\u001b[0m\n"
     ]
    }
   ],
   "source": [
    "# [MIDAS] You selected the following from a_df at time 11/19/2019, 8:05:06 PM\n",
    "m.add_selection_by_interaction(\"a_df\", {\"x\":[12]})"
   ]
  },
  {
   "cell_type": "code",
   "execution_count": null,
   "metadata": {},
   "outputs": [],
   "source": [
    "# [MIDAS] You selected the following from b_df at time 11/19/2019, 6:39:05 PM\n",
    "m.add_selection_by_interaction(\"b_df\", {\"x\":[-0.4,-0.2]})"
   ]
  },
  {
   "cell_type": "code",
   "execution_count": null,
   "metadata": {},
   "outputs": [],
   "source": [
    "\n",
    "c2_df = raw_df.select(['c'])"
   ]
  },
  {
   "cell_type": "code",
   "execution_count": null,
   "metadata": {},
   "outputs": [],
   "source": [
    "a_stream = a_df.get_stream()"
   ]
  },
  {
   "cell_type": "code",
   "execution_count": null,
   "metadata": {},
   "outputs": [],
   "source": [
    "a_stream.current"
   ]
  },
  {
   "cell_type": "code",
   "execution_count": null,
   "metadata": {},
   "outputs": [],
   "source": [
    "# [MIDAS] You selected the following from a_df at time 11/19/2019, 1:08:28 PM\n",
    "m.add_selection_by_interaction(\"a_df\", {\"x\":[2,3,4,5]})"
   ]
  },
  {
   "cell_type": "code",
   "execution_count": null,
   "metadata": {},
   "outputs": [],
   "source": [
    "# [MIDAS] You selected the following from a_df at time 11/19/2019, 1:08:31 PM\n",
    "m.add_selection_by_interaction(\"a_df\", None)"
   ]
  },
  {
   "cell_type": "code",
   "execution_count": null,
   "metadata": {},
   "outputs": [],
   "source": [
    "raw2 = [\n",
    "  'a', [1,2,3,4],\n",
    "  'sales', [\"good\", \"bad\", \"great\", \"good\"]\n",
    "]\n",
    "sales_df = m.with_columns(raw2)"
   ]
  },
  {
   "cell_type": "code",
   "execution_count": null,
   "metadata": {},
   "outputs": [],
   "source": [
    "# [MIDAS] You selected the following from a_df at time 11/19/2019, 12:58:50 PM\n",
    "m.add_selection_by_interaction(\"a_df\", null)"
   ]
  },
  {
   "cell_type": "code",
   "execution_count": null,
   "metadata": {},
   "outputs": [],
   "source": [
    "# [MIDAS] You selected the following from a_df at time 11/19/2019, 12:58:48 PM\n",
    "m.add_selection_by_interaction(\"a_df\", {\"x\":[1,2,3]})"
   ]
  },
  {
   "cell_type": "code",
   "execution_count": null,
   "metadata": {},
   "outputs": [],
   "source": [
    "# [MIDAS] You selected the following from a_df at time 11/19/2019, 12:58:08 PM\n",
    "m.add_selection_by_interaction(\"a_df\", {\"x\":[1,2,3]})"
   ]
  },
  {
   "cell_type": "code",
   "execution_count": null,
   "metadata": {},
   "outputs": [],
   "source": [
    "raw_df.join(sales_df)"
   ]
  },
  {
   "cell_type": "code",
   "execution_count": null,
   "metadata": {},
   "outputs": [],
   "source": [
    "from datascience import are\n",
    "t2 = raw_df.where('b', are.below_or_equal_to(60)).select(['a'])"
   ]
  },
  {
   "cell_type": "code",
   "execution_count": null,
   "metadata": {},
   "outputs": [],
   "source": [
    "a_stream = t.get_stream()"
   ]
  },
  {
   "cell_type": "code",
   "execution_count": null,
   "metadata": {},
   "outputs": [],
   "source": [
    "a_stream.current"
   ]
  },
  {
   "cell_type": "code",
   "execution_count": null,
   "metadata": {},
   "outputs": [],
   "source": [
    "def transform(predicate):\n",
    "    m.ui_comm.send_debug_msg(f\"Transform {predicate}\")\n",
    "    new_mdf = all_df.apply_selection(predicate)\n",
    "    new_mdf.project([new_mdf.c]).assign(\"c_df\")\n",
    "\n",
    "a_stream.add_callback(transform)"
   ]
  }
 ],
 "metadata": {
  "kernelspec": {
   "display_name": "Python 3",
   "language": "python",
   "name": "python3"
  },
  "language_info": {
   "codemirror_mode": {
    "name": "ipython",
    "version": 3
   },
   "file_extension": ".py",
   "mimetype": "text/x-python",
   "name": "python",
   "nbconvert_exporter": "python",
   "pygments_lexer": "ipython3",
   "version": "3.7.4"
  }
 },
 "nbformat": 4,
 "nbformat_minor": 2
}
