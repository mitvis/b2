{
 "cells": [
  {
   "cell_type": "code",
   "execution_count": 1,
   "metadata": {},
   "outputs": [],
   "source": [
    "%load_ext autoreload\n",
    "%autoreload 2"
   ]
  },
  {
   "cell_type": "code",
   "execution_count": 2,
   "metadata": {},
   "outputs": [
    {
     "name": "stdout",
     "output_type": "stream",
     "text": [
      "\u001b[93mfound name m\u001b[0m\n"
     ]
    }
   ],
   "source": [
    "from midas import Midas\n",
    "m = Midas()"
   ]
  },
  {
   "cell_type": "code",
   "execution_count": 3,
   "metadata": {},
   "outputs": [],
   "source": [
    "raw = [\n",
    "  'a', [1,2,3,4,5,6,7,8,9,10],\n",
    "  'b', [10,20,30,40,50,60,70,80,90,100],\n",
    "  'c', [100,200,300,400,500,600,700,800,900,1000]\n",
    "]"
   ]
  },
  {
   "cell_type": "code",
   "execution_count": 6,
   "metadata": {},
   "outputs": [],
   "source": [
    "import numpy as np\n",
    "mu, sigma = 10, 1 # mean and standard deviation\n",
    "s = np.random.normal(mu, sigma, 100)"
   ]
  },
  {
   "cell_type": "code",
   "execution_count": 7,
   "metadata": {},
   "outputs": [],
   "source": [
    "raw = [\n",
    "  'a', s,\n",
    "  'b', s * 2,\n",
    "  'c', s * 3\n",
    "]"
   ]
  },
  {
   "cell_type": "code",
   "execution_count": 8,
   "metadata": {},
   "outputs": [
    {
     "name": "stdout",
     "output_type": "stream",
     "text": [
      "\u001b[93mfound name raw_df\u001b[0m\n",
      "\u001b[93mAdding raw_df to run time\u001b[0m\n",
      "\u001b[93mcreating profile raw_df\u001b[0m\n"
     ]
    }
   ],
   "source": [
    "raw_df = m.with_columns(raw)"
   ]
  },
  {
   "cell_type": "code",
   "execution_count": 11,
   "metadata": {},
   "outputs": [
    {
     "name": "stdout",
     "output_type": "stream",
     "text": [
      "\u001b[93mfound name a_df\u001b[0m\n",
      "\u001b[93mAdding a_df to run time\u001b[0m\n",
      "\u001b[93mcreating chart a_df\u001b[0m\n",
      "\u001b[93mprocessing numeric distribution\u001b[0m\n",
      "bound size 1.0\n",
      "===\n",
      "a    | count\n",
      "7    | 2\n",
      "8    | 16\n",
      "9    | 43\n",
      "10   | 26\n",
      "11   | 11\n",
      "12   | 2\n",
      "floating\n",
      "[False False False False False False]\n",
      "\u001b[93mchanging df a_df value\u001b[0m\n"
     ]
    }
   ],
   "source": [
    "a_df = raw_df.select(['a']) "
   ]
  },
  {
   "cell_type": "code",
   "execution_count": null,
   "metadata": {},
   "outputs": [],
   "source": [
    "m.state.dfs['b_df'].df"
   ]
  },
  {
   "cell_type": "code",
   "execution_count": 12,
   "metadata": {},
   "outputs": [
    {
     "name": "stdout",
     "output_type": "stream",
     "text": [
      "\u001b[93mfound name b_df\u001b[0m\n",
      "\u001b[93mAdding b_df to run time\u001b[0m\n",
      "\u001b[93mcreating chart b_df\u001b[0m\n",
      "\u001b[93mprocessing numeric distribution\u001b[0m\n",
      "bound size 2\n",
      "===\n",
      "b    | count\n",
      "14   | 2\n",
      "16   | 16\n",
      "18   | 43\n",
      "20   | 26\n",
      "22   | 11\n",
      "24   | 2\n",
      "\u001b[93mfound name c_df\u001b[0m\n",
      "\u001b[93mAdding c_df to run time\u001b[0m\n",
      "\u001b[93mcreating chart c_df\u001b[0m\n",
      "\u001b[93mprocessing numeric distribution\u001b[0m\n",
      "bound size 5\n",
      "===\n",
      "c    | count\n",
      "20   | 4\n",
      "25   | 57\n",
      "30   | 35\n",
      "35   | 4\n"
     ]
    }
   ],
   "source": [
    "b_df = raw_df.select(['b'])\n",
    "c_df = raw_df.select(['c'])"
   ]
  },
  {
   "cell_type": "code",
   "execution_count": 13,
   "metadata": {},
   "outputs": [
    {
     "name": "stdout",
     "output_type": "stream",
     "text": [
      "\u001b[93mselection is {'x': [8, 9, 10]}\u001b[0m\n",
      "\u001b[92m[tick]\t\tprocessing a_df for predicate{'a_df': df: a_df\n",
      "  predicates: [\n",
      "column:\ta_df.a\n",
      "  minVal:\t8\n",
      "  maxVal:\t10]}\u001b[0m\n",
      "\u001b[93mContext apply_selection called b_df\u001b[0m\n",
      "\u001b[93m[\n",
      "column:\ta_df.a\n",
      "  minVal:\t8\n",
      "  maxVal:\t10]\u001b[0m\n",
      "\u001b[93mprocessing numeric distribution\u001b[0m\n",
      "===\n",
      "b    | count\n",
      "14   | 0\n",
      "16   | 16\n",
      "18   | 43\n",
      "20   | 0\n",
      "22   | 0\n",
      "24   | 0\n",
      "new data\n",
      "[{'b': 14, 'count': 0}, {'b': 16, 'count': 16}, {'b': 18, 'count': 43}, {'b': 20, 'count': 0}, {'b': 22, 'count': 0}, {'b': 24, 'count': 0}]\n",
      "\u001b[93mchanging df b_df value\u001b[0m\n",
      "\u001b[93mContext apply_selection called c_df\u001b[0m\n",
      "\u001b[93m[\n",
      "column:\ta_df.a\n",
      "  minVal:\t8\n",
      "  maxVal:\t10]\u001b[0m\n",
      "\u001b[93mprocessing numeric distribution\u001b[0m\n",
      "===\n",
      "c    | count\n",
      "20   | 2\n",
      "25   | 57\n",
      "30   | 0\n",
      "35   | 0\n",
      "new data\n",
      "[{'c': 20, 'count': 2}, {'c': 25, 'count': 57}, {'c': 30, 'count': 0}, {'c': 35, 'count': 0}]\n",
      "\u001b[93mchanging df c_df value\u001b[0m\n"
     ]
    }
   ],
   "source": [
    "# [MIDAS] You selected the following from a_df at time 11/19/2019, 8:01:15 PM\n",
    "m.add_selection_by_interaction(\"a_df\", {\"x\":[8,9,10]})"
   ]
  },
  {
   "cell_type": "code",
   "execution_count": 14,
   "metadata": {},
   "outputs": [
    {
     "name": "stdout",
     "output_type": "stream",
     "text": [
      "\u001b[93mselection is {'x': [9, 10, 11]}\u001b[0m\n",
      "\u001b[92m[tick]\t\tprocessing a_df for predicate{'a_df': df: a_df\n",
      "  predicates: [\n",
      "column:\ta_df.a\n",
      "  minVal:\t9\n",
      "  maxVal:\t11]}\u001b[0m\n",
      "\u001b[93mContext apply_selection called b_df\u001b[0m\n",
      "\u001b[93m[\n",
      "column:\ta_df.a\n",
      "  minVal:\t9\n",
      "  maxVal:\t11]\u001b[0m\n",
      "\u001b[93mprocessing numeric distribution\u001b[0m\n",
      "===\n",
      "b    | count\n",
      "14   | 0\n",
      "16   | 0\n",
      "18   | 43\n",
      "20   | 26\n",
      "22   | 0\n",
      "24   | 0\n",
      "new data\n",
      "[{'b': 14, 'count': 0}, {'b': 16, 'count': 0}, {'b': 18, 'count': 43}, {'b': 20, 'count': 26}, {'b': 22, 'count': 0}, {'b': 24, 'count': 0}]\n",
      "\u001b[93mchanging df b_df value\u001b[0m\n",
      "\u001b[93mContext apply_selection called c_df\u001b[0m\n",
      "\u001b[93m[\n",
      "column:\ta_df.a\n",
      "  minVal:\t9\n",
      "  maxVal:\t11]\u001b[0m\n",
      "\u001b[93mprocessing numeric distribution\u001b[0m\n",
      "===\n",
      "c    | count\n",
      "20   | 0\n",
      "25   | 43\n",
      "30   | 26\n",
      "35   | 0\n",
      "new data\n",
      "[{'c': 20, 'count': 0}, {'c': 25, 'count': 43}, {'c': 30, 'count': 26}, {'c': 35, 'count': 0}]\n",
      "\u001b[93mchanging df c_df value\u001b[0m\n"
     ]
    }
   ],
   "source": [
    "# [MIDAS] You selected the following from a_df at time 11/19/2019, 8:01:20 PM\n",
    "m.add_selection_by_interaction(\"a_df\", {\"x\":[9,10,11]})"
   ]
  },
  {
   "cell_type": "code",
   "execution_count": 15,
   "metadata": {},
   "outputs": [
    {
     "name": "stdout",
     "output_type": "stream",
     "text": [
      "\u001b[93mselection is {'x': [10, 11, 12]}\u001b[0m\n",
      "\u001b[92m[tick]\t\tprocessing a_df for predicate{'a_df': df: a_df\n",
      "  predicates: [\n",
      "column:\ta_df.a\n",
      "  minVal:\t10\n",
      "  maxVal:\t12]}\u001b[0m\n",
      "\u001b[93mContext apply_selection called b_df\u001b[0m\n",
      "\u001b[93m[\n",
      "column:\ta_df.a\n",
      "  minVal:\t10\n",
      "  maxVal:\t12]\u001b[0m\n",
      "\u001b[93mprocessing numeric distribution\u001b[0m\n",
      "===\n",
      "b    | count\n",
      "14   | 0\n",
      "16   | 0\n",
      "18   | 0\n",
      "20   | 26\n",
      "22   | 11\n",
      "24   | 0\n",
      "new data\n",
      "[{'b': 14, 'count': 0}, {'b': 16, 'count': 0}, {'b': 18, 'count': 0}, {'b': 20, 'count': 26}, {'b': 22, 'count': 11}, {'b': 24, 'count': 0}]\n",
      "\u001b[93mchanging df b_df value\u001b[0m\n",
      "\u001b[93mContext apply_selection called c_df\u001b[0m\n",
      "\u001b[93m[\n",
      "column:\ta_df.a\n",
      "  minVal:\t10\n",
      "  maxVal:\t12]\u001b[0m\n",
      "\u001b[93mprocessing numeric distribution\u001b[0m\n",
      "===\n",
      "c    | count\n",
      "20   | 0\n",
      "25   | 0\n",
      "30   | 35\n",
      "35   | 2\n",
      "new data\n",
      "[{'c': 20, 'count': 0}, {'c': 25, 'count': 0}, {'c': 30, 'count': 35}, {'c': 35, 'count': 2}]\n",
      "\u001b[93mchanging df c_df value\u001b[0m\n"
     ]
    }
   ],
   "source": [
    "# [MIDAS] You selected the following from a_df at time 11/19/2019, 8:01:21 PM\n",
    "m.add_selection_by_interaction(\"a_df\", {\"x\":[10,11,12]})"
   ]
  },
  {
   "cell_type": "code",
   "execution_count": null,
   "metadata": {},
   "outputs": [],
   "source": [
    "# [MIDAS] You selected the following from b_df at time 11/19/2019, 6:39:05 PM\n",
    "m.add_selection_by_interaction(\"b_df\", {\"x\":[-0.4,-0.2]})"
   ]
  },
  {
   "cell_type": "code",
   "execution_count": null,
   "metadata": {},
   "outputs": [],
   "source": [
    "\n",
    "c2_df = raw_df.select(['c'])"
   ]
  },
  {
   "cell_type": "code",
   "execution_count": null,
   "metadata": {},
   "outputs": [],
   "source": [
    "a_stream = a_df.get_stream()"
   ]
  },
  {
   "cell_type": "code",
   "execution_count": null,
   "metadata": {},
   "outputs": [],
   "source": [
    "a_stream.current"
   ]
  },
  {
   "cell_type": "code",
   "execution_count": null,
   "metadata": {},
   "outputs": [],
   "source": [
    "# [MIDAS] You selected the following from a_df at time 11/19/2019, 1:08:28 PM\n",
    "m.add_selection_by_interaction(\"a_df\", {\"x\":[2,3,4,5]})"
   ]
  },
  {
   "cell_type": "code",
   "execution_count": null,
   "metadata": {},
   "outputs": [],
   "source": [
    "# [MIDAS] You selected the following from a_df at time 11/19/2019, 1:08:31 PM\n",
    "m.add_selection_by_interaction(\"a_df\", None)"
   ]
  },
  {
   "cell_type": "code",
   "execution_count": null,
   "metadata": {},
   "outputs": [],
   "source": [
    "raw2 = [\n",
    "  'a', [1,2,3,4],\n",
    "  'sales', [\"good\", \"bad\", \"great\", \"good\"]\n",
    "]\n",
    "sales_df = m.with_columns(raw2)"
   ]
  },
  {
   "cell_type": "code",
   "execution_count": null,
   "metadata": {},
   "outputs": [],
   "source": [
    "# [MIDAS] You selected the following from a_df at time 11/19/2019, 12:58:50 PM\n",
    "m.add_selection_by_interaction(\"a_df\", null)"
   ]
  },
  {
   "cell_type": "code",
   "execution_count": null,
   "metadata": {},
   "outputs": [],
   "source": [
    "# [MIDAS] You selected the following from a_df at time 11/19/2019, 12:58:48 PM\n",
    "m.add_selection_by_interaction(\"a_df\", {\"x\":[1,2,3]})"
   ]
  },
  {
   "cell_type": "code",
   "execution_count": null,
   "metadata": {},
   "outputs": [],
   "source": [
    "# [MIDAS] You selected the following from a_df at time 11/19/2019, 12:58:08 PM\n",
    "m.add_selection_by_interaction(\"a_df\", {\"x\":[1,2,3]})"
   ]
  },
  {
   "cell_type": "code",
   "execution_count": null,
   "metadata": {},
   "outputs": [],
   "source": [
    "raw_df.join(sales_df)"
   ]
  },
  {
   "cell_type": "code",
   "execution_count": null,
   "metadata": {},
   "outputs": [],
   "source": [
    "from datascience import are\n",
    "t2 = raw_df.where('b', are.below_or_equal_to(60)).select(['a'])"
   ]
  },
  {
   "cell_type": "code",
   "execution_count": null,
   "metadata": {},
   "outputs": [],
   "source": [
    "a_stream = t.get_stream()"
   ]
  },
  {
   "cell_type": "code",
   "execution_count": null,
   "metadata": {},
   "outputs": [],
   "source": [
    "a_stream.current"
   ]
  },
  {
   "cell_type": "code",
   "execution_count": null,
   "metadata": {},
   "outputs": [],
   "source": [
    "def transform(predicate):\n",
    "    m.ui_comm.send_debug_msg(f\"Transform {predicate}\")\n",
    "    new_mdf = all_df.apply_selection(predicate)\n",
    "    new_mdf.project([new_mdf.c]).assign(\"c_df\")\n",
    "\n",
    "a_stream.add_callback(transform)"
   ]
  }
 ],
 "metadata": {
  "kernelspec": {
   "display_name": "Python 3",
   "language": "python",
   "name": "python3"
  },
  "language_info": {
   "codemirror_mode": {
    "name": "ipython",
    "version": 3
   },
   "file_extension": ".py",
   "mimetype": "text/x-python",
   "name": "python",
   "nbconvert_exporter": "python",
   "pygments_lexer": "ipython3",
   "version": "3.7.4"
  }
 },
 "nbformat": 4,
 "nbformat_minor": 2
}
