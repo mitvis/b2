{
 "cells": [
  {
   "cell_type": "code",
   "execution_count": null,
   "metadata": {},
   "outputs": [],
   "source": [
    "%load_ext autoreload\n",
    "%autoreload 2"
   ]
  },
  {
   "cell_type": "code",
   "execution_count": 10,
   "metadata": {},
   "outputs": [],
   "source": [
    "from midas import Midas\n",
    "m = Midas()"
   ]
  },
  {
   "cell_type": "code",
   "execution_count": 11,
   "metadata": {},
   "outputs": [],
   "source": [
    "\n",
    "\n",
    "\n",
    "raw = [\n",
    "  'a', [1,2,3,4,5,6,7,8,9,10],\n",
    "  'b', [10,20,30,40,50,60,70,80,90,100],\n",
    "  'c', [100,200,300,400,500,600,700,800,900,1000]\n",
    "]"
   ]
  },
  {
   "cell_type": "code",
   "execution_count": 19,
   "metadata": {},
   "outputs": [],
   "source": [
    "import numpy as np\n",
    "mu, sigma = 0, 0.1 # mean and standard deviation\n",
    "s = np.random.normal(mu, sigma, 100)"
   ]
  },
  {
   "cell_type": "code",
   "execution_count": 21,
   "metadata": {},
   "outputs": [
    {
     "data": {
      "text/plain": [
       "array([-0.12836149,  0.18926859,  0.16418116, -0.12578548,  0.11857322,\n",
       "       -0.0897068 , -0.33760877,  0.02389628, -0.32551322, -0.26329993,\n",
       "       -0.10150992, -0.50805901,  0.22500227, -0.21223286,  0.11919898,\n",
       "        0.11619249,  0.10263453,  0.12302792,  0.1819434 , -0.04596026,\n",
       "        0.01193485,  0.17007105,  0.14275353,  0.05050474,  0.07488091,\n",
       "       -0.00453506,  0.0399041 ,  0.12811948,  0.06273173, -0.21602936,\n",
       "        0.14213635, -0.27104299, -0.11372947, -0.25461939, -0.42367984,\n",
       "        0.27464151,  0.0362265 ,  0.05985332,  0.12190414,  0.15834684,\n",
       "       -0.09355272,  0.20738293,  0.20304033,  0.20521406, -0.21858305,\n",
       "       -0.26002653, -0.0180455 , -0.02611827,  0.29743276, -0.47720182,\n",
       "       -0.20674738,  0.15724561, -0.18792023, -0.4330823 ,  0.21229059,\n",
       "       -0.11722564,  0.00917221, -0.15448864, -0.20075785, -0.0475848 ,\n",
       "        0.04966415, -0.39747241, -0.20319906,  0.22132363,  0.08672397,\n",
       "       -0.11230862,  0.03943203,  0.10522106,  0.00774002,  0.01519486,\n",
       "        0.24762811,  0.12419963,  0.53764328, -0.01356654,  0.06108126,\n",
       "       -0.2329513 ,  0.0649951 ,  0.20784659,  0.07469134, -0.05978727,\n",
       "       -0.35733396,  0.20951108, -0.36811291, -0.18205011,  0.54692155,\n",
       "        0.05323262, -0.29419102, -0.00345851, -0.2257333 , -0.01549248,\n",
       "       -0.26883326,  0.06359234,  0.28297464, -0.00087824, -0.03141281,\n",
       "        0.33610001, -0.41747759, -0.09813556,  0.11043656,  0.00281826])"
      ]
     },
     "execution_count": 21,
     "metadata": {},
     "output_type": "execute_result"
    }
   ],
   "source": [
    "s*2\n"
   ]
  },
  {
   "cell_type": "code",
   "execution_count": null,
   "metadata": {},
   "outputs": [],
   "source": [
    "raw = [\n",
    "  'a', s,\n",
    "  'b', s * 2,\n",
    "  'c', s * 3\n",
    "]"
   ]
  },
  {
   "cell_type": "code",
   "execution_count": 12,
   "metadata": {},
   "outputs": [
    {
     "name": "stdout",
     "output_type": "stream",
     "text": [
      "\u001b[93mfound name raw_df\u001b[0m\n",
      "\u001b[93mAdding raw_df to run time\u001b[0m\n",
      "\u001b[93mcreating profile raw_df\u001b[0m\n"
     ]
    }
   ],
   "source": [
    "raw_df = m.with_columns(raw)"
   ]
  },
  {
   "cell_type": "code",
   "execution_count": 13,
   "metadata": {},
   "outputs": [
    {
     "name": "stdout",
     "output_type": "stream",
     "text": [
      "\u001b[93mfound name a_df\u001b[0m\n",
      "\u001b[93mAdding a_df to run time\u001b[0m\n",
      "\u001b[93mcreating chart a_df\u001b[0m\n"
     ]
    }
   ],
   "source": [
    "a_df = raw_df.select(['a'])"
   ]
  },
  {
   "cell_type": "code",
   "execution_count": 14,
   "metadata": {},
   "outputs": [
    {
     "name": "stdout",
     "output_type": "stream",
     "text": [
      "\u001b[93mfound name b_df\u001b[0m\n",
      "\u001b[93mAdding b_df to run time\u001b[0m\n",
      "\u001b[93mcreating chart b_df\u001b[0m\n",
      "\u001b[93mfound name c_df\u001b[0m\n",
      "\u001b[93mAdding c_df to run time\u001b[0m\n",
      "\u001b[93mcreating chart c_df\u001b[0m\n"
     ]
    }
   ],
   "source": [
    "b_df = raw_df.select(['b'])\n",
    "c_df = raw_df.select(['c'])"
   ]
  },
  {
   "cell_type": "code",
   "execution_count": 15,
   "metadata": {},
   "outputs": [
    {
     "name": "stdout",
     "output_type": "stream",
     "text": [
      "\u001b[93mselection is {'x': [2, 3, 4, 5]}\u001b[0m\n",
      "\u001b[92m[tick]\t\tprocessing a_df for predicate{'a_df': df: a_df\n",
      "  predicates: [\n",
      "column:\ta_df.a\n",
      "  minVal:\t2\n",
      "  maxVal:\t5]}\u001b[0m\n",
      "\u001b[93mContext apply_selection called b_df\u001b[0m\n",
      "\u001b[93m[\n",
      "column:\ta_df.a\n",
      "  minVal:\t2\n",
      "  maxVal:\t5]\u001b[0m\n",
      "\u001b[93mchanging df b_df value\u001b[0m\n",
      "\u001b[93mContext apply_selection called c_df\u001b[0m\n",
      "\u001b[93m[\n",
      "column:\ta_df.a\n",
      "  minVal:\t2\n",
      "  maxVal:\t5]\u001b[0m\n",
      "\u001b[93mchanging df c_df value\u001b[0m\n"
     ]
    }
   ],
   "source": [
    "# [MIDAS] You selected the following from a_df at time 11/19/2019, 1:13:56 PM\n",
    "m.add_selection_by_interaction(\"a_df\", {\"x\":[2,3,4,5]})"
   ]
  },
  {
   "cell_type": "code",
   "execution_count": 16,
   "metadata": {},
   "outputs": [
    {
     "name": "stdout",
     "output_type": "stream",
     "text": [
      "\u001b[93mselection is None\u001b[0m\n",
      "\u001b[92m[tick]\t\tprocessing a_df for predicate{'a_df': df: a_df\n",
      "  predicates: []}\u001b[0m\n",
      "\u001b[93mchanging df b_df value\u001b[0m\n",
      "\u001b[93mchanging df c_df value\u001b[0m\n"
     ]
    }
   ],
   "source": [
    "# [MIDAS] You selected the following from a_df at time 11/19/2019, 1:13:57 PM\n",
    "m.add_selection_by_interaction(\"a_df\", None)"
   ]
  },
  {
   "cell_type": "code",
   "execution_count": 17,
   "metadata": {},
   "outputs": [
    {
     "name": "stdout",
     "output_type": "stream",
     "text": [
      "\u001b[93mselection is {'x': [5, 6, 7, 8]}\u001b[0m\n",
      "\u001b[92m[tick]\t\tprocessing a_df for predicate{'a_df': df: a_df\n",
      "  predicates: [\n",
      "column:\ta_df.a\n",
      "  minVal:\t5\n",
      "  maxVal:\t8]}\u001b[0m\n",
      "\u001b[93mContext apply_selection called b_df\u001b[0m\n",
      "\u001b[93m[\n",
      "column:\ta_df.a\n",
      "  minVal:\t5\n",
      "  maxVal:\t8]\u001b[0m\n",
      "\u001b[93mchanging df b_df value\u001b[0m\n",
      "\u001b[93mContext apply_selection called c_df\u001b[0m\n",
      "\u001b[93m[\n",
      "column:\ta_df.a\n",
      "  minVal:\t5\n",
      "  maxVal:\t8]\u001b[0m\n",
      "\u001b[93mchanging df c_df value\u001b[0m\n"
     ]
    }
   ],
   "source": [
    "# [MIDAS] You selected the following from a_df at time 11/19/2019, 1:13:59 PM\n",
    "m.add_selection_by_interaction(\"a_df\", {\"x\":[5,6,7,8]})"
   ]
  },
  {
   "cell_type": "code",
   "execution_count": 18,
   "metadata": {},
   "outputs": [
    {
     "name": "stdout",
     "output_type": "stream",
     "text": [
      "\u001b[93mselection is {'x': [50, 60]}\u001b[0m\n",
      "\u001b[92m[tick]\t\tprocessing b_df for predicate{'a_df': df: a_df\n",
      "  predicates: [\n",
      "column:\ta_df.a\n",
      "  minVal:\t5\n",
      "  maxVal:\t8], 'b_df': df: b_df\n",
      "  predicates: [\n",
      "column:\tb_df.b\n",
      "  minVal:\t50\n",
      "  maxVal:\t60]}\u001b[0m\n",
      "\u001b[93mContext apply_selection called a_df\u001b[0m\n",
      "\u001b[93m[\n",
      "column:\tb_df.b\n",
      "  minVal:\t50\n",
      "  maxVal:\t60]\u001b[0m\n",
      "\u001b[93mchanging df a_df value\u001b[0m\n",
      "\u001b[93mContext apply_selection called b_df\u001b[0m\n",
      "\u001b[93m[\n",
      "column:\ta_df.a\n",
      "  minVal:\t5\n",
      "  maxVal:\t8]\u001b[0m\n",
      "\u001b[93mchanging df b_df value\u001b[0m\n",
      "\u001b[93mContext apply_selection called c_df\u001b[0m\n",
      "\u001b[93m[\n",
      "column:\ta_df.a\n",
      "  minVal:\t5\n",
      "  maxVal:\t8, \n",
      "column:\tb_df.b\n",
      "  minVal:\t50\n",
      "  maxVal:\t60]\u001b[0m\n",
      "\u001b[93mchanging df c_df value\u001b[0m\n"
     ]
    }
   ],
   "source": [
    "# [MIDAS] You selected the following from b_df at time 11/19/2019, 1:14:02 PM\n",
    "m.add_selection_by_interaction(\"b_df\", {\"x\":[50,60]})"
   ]
  },
  {
   "cell_type": "code",
   "execution_count": null,
   "metadata": {},
   "outputs": [],
   "source": [
    "\n",
    "c2_df = raw_df.select(['c'])"
   ]
  },
  {
   "cell_type": "code",
   "execution_count": null,
   "metadata": {},
   "outputs": [],
   "source": [
    "a_stream = a_df.get_stream()"
   ]
  },
  {
   "cell_type": "code",
   "execution_count": null,
   "metadata": {},
   "outputs": [],
   "source": [
    "a_stream.current"
   ]
  },
  {
   "cell_type": "code",
   "execution_count": null,
   "metadata": {},
   "outputs": [],
   "source": [
    "# [MIDAS] You selected the following from a_df at time 11/19/2019, 1:08:28 PM\n",
    "m.add_selection_by_interaction(\"a_df\", {\"x\":[2,3,4,5]})"
   ]
  },
  {
   "cell_type": "code",
   "execution_count": null,
   "metadata": {},
   "outputs": [],
   "source": [
    "# [MIDAS] You selected the following from a_df at time 11/19/2019, 1:08:31 PM\n",
    "m.add_selection_by_interaction(\"a_df\", None)"
   ]
  },
  {
   "cell_type": "code",
   "execution_count": null,
   "metadata": {},
   "outputs": [],
   "source": [
    "raw2 = [\n",
    "  'a', [1,2,3,4],\n",
    "  'sales', [\"good\", \"bad\", \"great\", \"good\"]\n",
    "]\n",
    "sales_df = m.with_columns(raw2)"
   ]
  },
  {
   "cell_type": "code",
   "execution_count": null,
   "metadata": {},
   "outputs": [],
   "source": [
    "# [MIDAS] You selected the following from a_df at time 11/19/2019, 12:58:50 PM\n",
    "m.add_selection_by_interaction(\"a_df\", null)"
   ]
  },
  {
   "cell_type": "code",
   "execution_count": null,
   "metadata": {},
   "outputs": [],
   "source": [
    "# [MIDAS] You selected the following from a_df at time 11/19/2019, 12:58:48 PM\n",
    "m.add_selection_by_interaction(\"a_df\", {\"x\":[1,2,3]})"
   ]
  },
  {
   "cell_type": "code",
   "execution_count": null,
   "metadata": {},
   "outputs": [],
   "source": [
    "# [MIDAS] You selected the following from a_df at time 11/19/2019, 12:58:08 PM\n",
    "m.add_selection_by_interaction(\"a_df\", {\"x\":[1,2,3]})"
   ]
  },
  {
   "cell_type": "code",
   "execution_count": null,
   "metadata": {},
   "outputs": [],
   "source": [
    "raw_df.join(sales_df)"
   ]
  },
  {
   "cell_type": "code",
   "execution_count": null,
   "metadata": {},
   "outputs": [],
   "source": [
    "from datascience import are\n",
    "t2 = raw_df.where('b', are.below_or_equal_to(60)).select(['a'])"
   ]
  },
  {
   "cell_type": "code",
   "execution_count": null,
   "metadata": {},
   "outputs": [],
   "source": [
    "a_stream = t.get_stream()"
   ]
  },
  {
   "cell_type": "code",
   "execution_count": null,
   "metadata": {},
   "outputs": [],
   "source": [
    "a_stream.current"
   ]
  },
  {
   "cell_type": "code",
   "execution_count": null,
   "metadata": {},
   "outputs": [],
   "source": [
    "def transform(predicate):\n",
    "    m.ui_comm.send_debug_msg(f\"Transform {predicate}\")\n",
    "    new_mdf = all_df.apply_selection(predicate)\n",
    "    new_mdf.project([new_mdf.c]).assign(\"c_df\")\n",
    "\n",
    "a_stream.add_callback(transform)"
   ]
  }
 ],
 "metadata": {
  "kernelspec": {
   "display_name": "Python 3",
   "language": "python",
   "name": "python3"
  },
  "language_info": {
   "codemirror_mode": {
    "name": "ipython",
    "version": 3
   },
   "file_extension": ".py",
   "mimetype": "text/x-python",
   "name": "python",
   "nbconvert_exporter": "python",
   "pygments_lexer": "ipython3",
   "version": "3.7.4"
  }
 },
 "nbformat": 4,
 "nbformat_minor": 2
}
