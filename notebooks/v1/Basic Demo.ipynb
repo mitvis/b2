{
 "cells": [
  {
   "cell_type": "markdown",
   "metadata": {},
   "source": [
    "## Demo Scenario\n",
    "We are going to be analyzing some rental data"
   ]
  },
  {
   "cell_type": "code",
   "execution_count": null,
   "metadata": {},
   "outputs": [],
   "source": [
    "from midas import Midas\n",
    "m = Midas()"
   ]
  },
  {
   "cell_type": "markdown",
   "metadata": {},
   "source": [
    "## Basic Profiling and Visualizations\n",
    "When loading data into Midas, we show a basic profiler on the side."
   ]
  },
  {
   "cell_type": "code",
   "execution_count": null,
   "metadata": {},
   "outputs": [],
   "source": [
    "contacts_df = m.read_table(\"/Users/yifanwu/Dev/midas/notebooks/rental/contacts.csv\")"
   ]
  },
  {
   "cell_type": "markdown",
   "metadata": {},
   "source": [
    "## Interactive Charts are Generated"
   ]
  },
  {
   "cell_type": "code",
   "execution_count": null,
   "metadata": {},
   "outputs": [],
   "source": [
    "# now let's say that there is an interesting chart the user wants to look at\n",
    "contact_channel_first_df = contacts_df.select([\"contact_channel_first\"])"
   ]
  },
  {
   "cell_type": "code",
   "execution_count": null,
   "metadata": {
    "scrolled": true
   },
   "outputs": [],
   "source": [
    "interactions_df = contacts_df.select([\"m_interactions\"])"
   ]
  },
  {
   "cell_type": "markdown",
   "metadata": {},
   "source": [
    "### Oberservation\n",
    "From the chart we can see that there must be some data scleaning issues."
   ]
  },
  {
   "cell_type": "markdown",
   "metadata": {},
   "source": [
    "## Access Selections Stream"
   ]
  },
  {
   "cell_type": "code",
   "execution_count": null,
   "metadata": {},
   "outputs": [],
   "source": [
    "contact_channel_stream = contact_channel_first_df.get_stream()\n",
    "contact_channel_stream"
   ]
  },
  {
   "cell_type": "code",
   "execution_count": null,
   "metadata": {},
   "outputs": [],
   "source": [
    "contact_channel_stream.current"
   ]
  },
  {
   "cell_type": "code",
   "execution_count": null,
   "metadata": {},
   "outputs": [],
   "source": [
    "contacts_df.project([contacts_df.ts_booking_at]).pandas_value"
   ]
  },
  {
   "cell_type": "code",
   "execution_count": null,
   "metadata": {},
   "outputs": [],
   "source": [
    "room_type_df = listings_df.project([listings_df.room_type]).assign(\"room_type_df\")"
   ]
  },
  {
   "cell_type": "code",
   "execution_count": null,
   "metadata": {},
   "outputs": [],
   "source": [
    "# note the code below does not yet work!"
   ]
  },
  {
   "cell_type": "code",
   "execution_count": null,
   "metadata": {},
   "outputs": [],
   "source": [
    "total_reviews_df = listings_df.project([listings_df.total_reviews]).assign(\"total_reviews_df\")\n"
   ]
  },
  {
   "cell_type": "markdown",
   "metadata": {},
   "source": [
    "## Reactive Cells\n",
    "Cells on state that will change will be reactively called"
   ]
  },
  {
   "cell_type": "code",
   "execution_count": null,
   "metadata": {},
   "outputs": [],
   "source": [
    "def transform(predicate):\n",
    "    m.ui_comm.send_debug_msg(f\"Transform {predicate}\")\n",
    "    new_mdf = contacts_df.apply_selection(contact_channel_stream.current)\n",
    "    new_mdf.project([new_mdf.m_guests]).assign(\"m_guests\")\n",
    "\n",
    "contact_channel_stream.add_callback(transform)"
   ]
  },
  {
   "cell_type": "code",
   "execution_count": null,
   "metadata": {},
   "outputs": [],
   "source": [
    "new_mdf = contacts_df.apply_selection(contact_channel_stream.current)\n",
    "m_guests = new_mdf.project([new_mdf.m_guests]).assign(\"m_guests\")\n",
    "m_guests.pandas_value"
   ]
  },
  {
   "cell_type": "code",
   "execution_count": null,
   "metadata": {},
   "outputs": [],
   "source": [
    "contact_channel_stream.ref_to_predicate_list"
   ]
  },
  {
   "cell_type": "code",
   "execution_count": null,
   "metadata": {},
   "outputs": [],
   "source": [
    "m.event_loop.tick_funcs['contact_channel_first_df'] = []"
   ]
  },
  {
   "cell_type": "code",
   "execution_count": null,
   "metadata": {},
   "outputs": [],
   "source": [
    "p = contact_channel_stream.current\n",
    "m.event_loop.tick('contact_channel_first_df', p)"
   ]
  },
  {
   "cell_type": "code",
   "execution_count": null,
   "metadata": {},
   "outputs": [],
   "source": [
    "predicate = contact_channel_stream.current\n",
    "new_mdf = contacts_df.apply_selection(contact_channel_stream.current)\n",
    "m_guests = new_mdf.project([new_mdf.m_guests]).assign(\"m_guests\") \n"
   ]
  },
  {
   "cell_type": "markdown",
   "metadata": {},
   "source": [
    "## Working with more than one table"
   ]
  },
  {
   "cell_type": "code",
   "execution_count": null,
   "metadata": {},
   "outputs": [],
   "source": [
    "listings = m.read_table(\"/Users/yifanwu/Dev/midas/notebooks/rental/listings.csv\")\n",
    "users = m.read_table(\"/Users/yifanwu/Dev/midas/notebooks/rental/users.csv\")"
   ]
  }
 ],
 "metadata": {
  "kernelspec": {
   "display_name": "Python 3",
   "language": "python",
   "name": "python3"
  },
  "language_info": {
   "codemirror_mode": {
    "name": "ipython",
    "version": 3
   },
   "file_extension": ".py",
   "mimetype": "text/x-python",
   "name": "python",
   "nbconvert_exporter": "python",
   "pygments_lexer": "ipython3",
   "version": "3.7.4"
  }
 },
 "nbformat": 4,
 "nbformat_minor": 2
}
