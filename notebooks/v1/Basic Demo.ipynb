{
 "cells": [
  {
   "cell_type": "markdown",
   "metadata": {},
   "source": [
    "## Demo Scenario\n",
    "We are going to be analyzing some rental data"
   ]
  },
  {
   "cell_type": "code",
   "execution_count": 25,
   "metadata": {},
   "outputs": [
    {
     "name": "stdout",
     "output_type": "stream",
     "text": [
      "\u001b[93mfound name m\u001b[0m\n"
     ]
    }
   ],
   "source": [
    "from midas import Midas\n",
    "m = Midas()"
   ]
  },
  {
   "cell_type": "markdown",
   "metadata": {},
   "source": [
    "## Basic Profiling and Visualizations\n",
    "When loading data into Midas, we show a basic profiler on the side."
   ]
  },
  {
   "cell_type": "code",
   "execution_count": 26,
   "metadata": {},
   "outputs": [
    {
     "name": "stdout",
     "output_type": "stream",
     "text": [
      "\u001b[93mfound name contacts_df\u001b[0m\n",
      "\u001b[93m+ Addign df contacts_df\u001b[0m\n"
     ]
    }
   ],
   "source": [
    "contacts_df = m.read_table(\"/Users/yifanwu/Dev/midas/notebooks/rental/contacts.csv\")"
   ]
  },
  {
   "cell_type": "code",
   "execution_count": 24,
   "metadata": {},
   "outputs": [
    {
     "data": {
      "text/plain": [
       "{}"
      ]
     },
     "execution_count": 24,
     "metadata": {},
     "output_type": "execute_result"
    }
   ],
   "source": [
    "contacts_df.table._formats"
   ]
  },
  {
   "cell_type": "code",
   "execution_count": 16,
   "metadata": {},
   "outputs": [
    {
     "name": "stdout",
     "output_type": "stream",
     "text": [
      "\u001b[93mfound name contacts_df_id_host_anon\u001b[0m\n",
      "\u001b[93m+ Addign df contacts_df_id_host_anon\u001b[0m\n"
     ]
    }
   ],
   "source": [
    "# [MIDAS] You selected the following projection on contacts_df at time 11/29/2019, 6:21:26 PM\n",
    "contacts_df_id_host_anon = contacts_df.select(['id_host_anon'])"
   ]
  },
  {
   "cell_type": "code",
   "execution_count": 11,
   "metadata": {},
   "outputs": [
    {
     "name": "stdout",
     "output_type": "stream",
     "text": [
      "\u001b[93mfound name contacts_df_id_host_anon\u001b[0m\n",
      "\u001b[93m+ Addign df contacts_df_id_host_anon\u001b[0m\n"
     ]
    }
   ],
   "source": [
    "# [MIDAS] You selected the following projection on contacts_df at time 11/29/2019, 6:14:12 PM\n",
    "contacts_df_id_host_anon = contacts_df.select(['id_host_anon'])"
   ]
  },
  {
   "cell_type": "code",
   "execution_count": 3,
   "metadata": {},
   "outputs": [
    {
     "name": "stdout",
     "output_type": "stream",
     "text": [
      "\u001b[93mfound name contacts_df_id_guest_anon\u001b[0m\n",
      "\u001b[93m+ Addign df contacts_df_id_guest_anon\u001b[0m\n"
     ]
    }
   ],
   "source": [
    "# [MIDAS] You selected the following projection on contacts_df at time 11/29/2019, 5:06:02 PM\n",
    "contacts_df_id_guest_anon = contacts_df.select(['id_guest_anon'])"
   ]
  },
  {
   "cell_type": "code",
   "execution_count": 20,
   "metadata": {},
   "outputs": [
    {
     "ename": "NameError",
     "evalue": "name 'contacts_df_id_guest_anon' is not defined",
     "output_type": "error",
     "traceback": [
      "\u001b[0;31m---------------------------------------------------------------------------\u001b[0m",
      "\u001b[0;31mNameError\u001b[0m                                 Traceback (most recent call last)",
      "\u001b[0;32m<ipython-input-20-4e8c5708802f>\u001b[0m in \u001b[0;36m<module>\u001b[0;34m\u001b[0m\n\u001b[0;32m----> 1\u001b[0;31m \u001b[0mcontacts_df_id_guest_anon\u001b[0m\u001b[0;34m.\u001b[0m\u001b[0m_formats\u001b[0m\u001b[0;34m\u001b[0m\u001b[0;34m\u001b[0m\u001b[0m\n\u001b[0m",
      "\u001b[0;31mNameError\u001b[0m: name 'contacts_df_id_guest_anon' is not defined"
     ]
    }
   ],
   "source": [
    "contacts_df_id_guest_anon._formats"
   ]
  },
  {
   "cell_type": "code",
   "execution_count": 19,
   "metadata": {},
   "outputs": [
    {
     "data": {
      "text/plain": [
       "id_host_anon\n",
       "5426897d-960d-4013-9e38-606ae746793c\n",
       "f30417c5-6df4-45ac-bfc2-6ad1cce398ab\n",
       "13cbf50a-3272-45d4-9866-a06b6ea1b99a\n",
       "01614601-d5a4-4776-ab9b-c10d3b865bf0\n",
       "f2fed6f3-4c5c-453d-9e64-37c62b8bd06d\n",
       "90334ef3-f489-45a0-89e0-d18d370e4a1c\n",
       "10dc3fc4-694f-44b2-aaac-9dbace0ebabd\n",
       "7e0696cb-6321-4d60-a8e9-793ee14724fd\n",
       "1c990fca-5b09-4eca-bdcf-d9e923112f04\n",
       "2bd81140-3d71-4fd9-add3-5998f9263c57\n",
       "... (27877 rows omitted)"
      ]
     },
     "execution_count": 19,
     "metadata": {},
     "output_type": "execute_result"
    }
   ],
   "source": [
    "m.dfs['contacts_df_id_host_anon'].df"
   ]
  },
  {
   "cell_type": "markdown",
   "metadata": {},
   "source": [
    "## Interactive Charts are Generated"
   ]
  },
  {
   "cell_type": "code",
   "execution_count": null,
   "metadata": {},
   "outputs": [],
   "source": [
    "# now let's say that there is an interesting chart the user wants to look at\n",
    "contact_channel_first_df = contacts_df.select([\"contact_channel_first\"])"
   ]
  },
  {
   "cell_type": "code",
   "execution_count": null,
   "metadata": {
    "scrolled": true
   },
   "outputs": [],
   "source": [
    "interactions_df = contacts_df.select([\"m_interactions\"])"
   ]
  },
  {
   "cell_type": "markdown",
   "metadata": {},
   "source": [
    "### Oberservation\n",
    "From the chart we can see that there must be some data scleaning issues."
   ]
  },
  {
   "cell_type": "markdown",
   "metadata": {},
   "source": [
    "## Access Selections Stream"
   ]
  },
  {
   "cell_type": "code",
   "execution_count": null,
   "metadata": {},
   "outputs": [],
   "source": [
    "contact_channel_stream = contact_channel_first_df.get_stream()\n",
    "contact_channel_stream"
   ]
  },
  {
   "cell_type": "code",
   "execution_count": null,
   "metadata": {},
   "outputs": [],
   "source": [
    "contact_channel_stream.current"
   ]
  },
  {
   "cell_type": "code",
   "execution_count": null,
   "metadata": {},
   "outputs": [],
   "source": [
    "contacts_df.project([contacts_df.ts_booking_at]).pandas_value"
   ]
  },
  {
   "cell_type": "code",
   "execution_count": null,
   "metadata": {},
   "outputs": [],
   "source": [
    "room_type_df = listings_df.project([listings_df.room_type]).assign(\"room_type_df\")"
   ]
  },
  {
   "cell_type": "code",
   "execution_count": null,
   "metadata": {},
   "outputs": [],
   "source": [
    "# note the code below does not yet work!"
   ]
  },
  {
   "cell_type": "code",
   "execution_count": null,
   "metadata": {},
   "outputs": [],
   "source": [
    "total_reviews_df = listings_df.project([listings_df.total_reviews]).assign(\"total_reviews_df\")\n"
   ]
  },
  {
   "cell_type": "markdown",
   "metadata": {},
   "source": [
    "## Reactive Cells\n",
    "Cells on state that will change will be reactively called"
   ]
  },
  {
   "cell_type": "code",
   "execution_count": null,
   "metadata": {},
   "outputs": [],
   "source": [
    "def transform(predicate):\n",
    "    m.ui_comm.send_debug_msg(f\"Transform {predicate}\")\n",
    "    new_mdf = contacts_df.apply_selection(contact_channel_stream.current)\n",
    "    new_mdf.project([new_mdf.m_guests]).assign(\"m_guests\")\n",
    "\n",
    "contact_channel_stream.add_callback(transform)"
   ]
  },
  {
   "cell_type": "code",
   "execution_count": null,
   "metadata": {},
   "outputs": [],
   "source": [
    "new_mdf = contacts_df.apply_selection(contact_channel_stream.current)\n",
    "m_guests = new_mdf.project([new_mdf.m_guests]).assign(\"m_guests\")\n",
    "m_guests.pandas_value"
   ]
  },
  {
   "cell_type": "code",
   "execution_count": null,
   "metadata": {},
   "outputs": [],
   "source": [
    "contact_channel_stream.ref_to_predicate_list"
   ]
  },
  {
   "cell_type": "code",
   "execution_count": null,
   "metadata": {},
   "outputs": [],
   "source": [
    "m.event_loop.tick_funcs['contact_channel_first_df'] = []"
   ]
  },
  {
   "cell_type": "code",
   "execution_count": null,
   "metadata": {},
   "outputs": [],
   "source": [
    "p = contact_channel_stream.current\n",
    "m.event_loop.tick('contact_channel_first_df', p)"
   ]
  },
  {
   "cell_type": "code",
   "execution_count": null,
   "metadata": {},
   "outputs": [],
   "source": [
    "predicate = contact_channel_stream.current\n",
    "new_mdf = contacts_df.apply_selection(contact_channel_stream.current)\n",
    "m_guests = new_mdf.project([new_mdf.m_guests]).assign(\"m_guests\") \n"
   ]
  },
  {
   "cell_type": "markdown",
   "metadata": {},
   "source": [
    "## Working with more than one table"
   ]
  },
  {
   "cell_type": "code",
   "execution_count": null,
   "metadata": {},
   "outputs": [],
   "source": [
    "listings = m.read_table(\"/Users/yifanwu/Dev/midas/notebooks/rental/listings.csv\")\n",
    "users = m.read_table(\"/Users/yifanwu/Dev/midas/notebooks/rental/users.csv\")"
   ]
  }
 ],
 "metadata": {
  "kernelspec": {
   "display_name": "Python 3",
   "language": "python",
   "name": "python3"
  },
  "language_info": {
   "codemirror_mode": {
    "name": "ipython",
    "version": 3
   },
   "file_extension": ".py",
   "mimetype": "text/x-python",
   "name": "python",
   "nbconvert_exporter": "python",
   "pygments_lexer": "ipython3",
   "version": "3.7.4"
  }
 },
 "nbformat": 4,
 "nbformat_minor": 2
}
