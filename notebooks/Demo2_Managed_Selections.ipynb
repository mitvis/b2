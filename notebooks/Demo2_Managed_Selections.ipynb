{
 "cells": [
  {
   "cell_type": "markdown",
   "metadata": {},
   "source": [
    "# Accessing Selections\n",
    "Underneath the hood, `Midas` creates an _event loop_ that updates the values everytime there is a new selection"
   ]
  },
  {
   "cell_type": "code",
   "execution_count": null,
   "metadata": {},
   "outputs": [],
   "source": [
    "%load_ext autoreload\n",
    "%autoreload 2"
   ]
  },
  {
   "cell_type": "code",
   "execution_count": null,
   "metadata": {},
   "outputs": [],
   "source": [
    "from midas import Midas\n",
    "m = Midas()"
   ]
  },
  {
   "cell_type": "code",
   "execution_count": null,
   "metadata": {},
   "outputs": [],
   "source": [
    "cars_df = m.read_json('data/cars.json', 'cars_df')"
   ]
  },
  {
   "cell_type": "code",
   "execution_count": null,
   "metadata": {},
   "outputs": [],
   "source": [
    "cars_df.head(5)"
   ]
  },
  {
   "cell_type": "markdown",
   "metadata": {},
   "source": [
    "### Read the predicate"
   ]
  },
  {
   "cell_type": "code",
   "execution_count": null,
   "metadata": {},
   "outputs": [],
   "source": [
    "s = m.get_current_selection('cars_df')\n",
    "\n",
    "# you can see what the selection was\n",
    "s.x"
   ]
  },
  {
   "cell_type": "code",
   "execution_count": null,
   "metadata": {},
   "outputs": [],
   "source": [
    "# you can also see when the interaction was made\n",
    "s.interaction_time"
   ]
  },
  {
   "cell_type": "code",
   "execution_count": null,
   "metadata": {
    "scrolled": true
   },
   "outputs": [],
   "source": [
    "# you can also access the predicate by the data that is filtered\n",
    "m.get_current_selection('cars_df', \"data\")"
   ]
  },
  {
   "cell_type": "markdown",
   "metadata": {},
   "source": [
    "## Accessing the Current Interactive Selection in Code"
   ]
  },
  {
   "cell_type": "code",
   "execution_count": null,
   "metadata": {},
   "outputs": [],
   "source": [
    "# you can click on the `code` button, or run the follow function to get the code that represents the selection\n",
    "m.js_get_current_chart_code('cars_df')"
   ]
  },
  {
   "cell_type": "code",
   "execution_count": null,
   "metadata": {},
   "outputs": [],
   "source": [
    "# you can also access the info via GUI\n",
    "\n",
    "# generated from interaction on `cars_df` at time 09_11_10_16_34\n",
    "cars_df.loc[\n",
    "(cars_df['Acceleration'] < 17.569531249999997)\n",
    "& (cars_df['Acceleration'] > 14.149531249999999)\n",
    "& (cars_df['Cylinders'] > 4.7828125)\n",
    "& (cars_df['Cylinders'] < 6.6078125)\n",
    "]"
   ]
  },
  {
   "cell_type": "markdown",
   "metadata": {},
   "source": [
    "## Create a Detail on Demand Visualization with _Derived Charts_"
   ]
  },
  {
   "cell_type": "code",
   "execution_count": null,
   "metadata": {},
   "outputs": [],
   "source": [
    "# the user can define a new dataframe based on the selection, which we will visualize\n",
    "@m.bind(\"data\", \"data\", 'cars_df', 'detail_df')\n",
    "# Eugene feedback: bind has too many concepts\n",
    "# - maybe make the notion of \"stream\" explicit\n",
    "# x = cars_df.data_selection() # pointer to event stream\n",
    "# x.on(\"events\", lambda df: return render(df))\n",
    "\n",
    "def df_copy(df_in):\n",
    "    return df_in"
   ]
  },
  {
   "cell_type": "markdown",
   "metadata": {},
   "source": [
    "## Specifying _Derived Charts_"
   ]
  },
  {
   "cell_type": "code",
   "execution_count": null,
   "metadata": {},
   "outputs": [],
   "source": [
    "# the user can define a new dataframe based on the selection, which we will visualize\n",
    "@m.bind(\"data\", \"data\", 'cars_df', \"test_df\")\n",
    "def df_trans(df_in):\n",
    "    df_out = df_in['Cylinders'] + df_in['Acceleration']\n",
    "    return df_out.to_frame('Val')"
   ]
  },
  {
   "cell_type": "code",
   "execution_count": null,
   "metadata": {},
   "outputs": [],
   "source": [
    "# note that while the value of d is reactively updated,\n",
    "#   anything that depends on d is _not_ re-ran\n",
    "d = None\n",
    "@m.bind(\"predicate\", \"void\", 'cars_df')\n",
    "def cb(predicate):\n",
    "    global d\n",
    "    d = predicate"
   ]
  },
  {
   "cell_type": "code",
   "execution_count": null,
   "metadata": {},
   "outputs": [],
   "source": [
    "%% reactive\n",
    "d.x"
   ]
  },
  {
   "cell_type": "code",
   "execution_count": null,
   "metadata": {},
   "outputs": [],
   "source": []
  }
 ],
 "metadata": {
  "kernelspec": {
   "display_name": "Python 3",
   "language": "python",
   "name": "python3"
  },
  "language_info": {
   "codemirror_mode": {
    "name": "ipython",
    "version": 3
   },
   "file_extension": ".py",
   "mimetype": "text/x-python",
   "name": "python",
   "nbconvert_exporter": "python",
   "pygments_lexer": "ipython3",
   "version": "3.7.4"
  }
 },
 "nbformat": 4,
 "nbformat_minor": 2
}
