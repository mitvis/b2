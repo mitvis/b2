{
 "cells": [
  {
   "cell_type": "markdown",
   "metadata": {},
   "source": [
    "# Accessing Selections\n",
    "Underneath the hood, `Midas` creates an _event loop_ that updates the values everytime there is a new selection"
   ]
  },
  {
   "cell_type": "code",
   "execution_count": null,
   "metadata": {},
   "outputs": [],
   "source": [
    "%load_ext autoreload\n",
    "%autoreload 2"
   ]
  },
  {
   "cell_type": "code",
   "execution_count": null,
   "metadata": {},
   "outputs": [],
   "source": [
    "import midas\n",
    "m = midas.Midas()"
   ]
  },
  {
   "cell_type": "code",
   "execution_count": null,
   "metadata": {},
   "outputs": [],
   "source": [
    "cars_df = m.read_json('cars.json', 'cars_df')"
   ]
  },
  {
   "cell_type": "code",
   "execution_count": null,
   "metadata": {},
   "outputs": [],
   "source": [
    "# sanity check\n",
    "s = m.get_current_selection('cars_df')\n",
    "s.x"
   ]
  },
  {
   "cell_type": "code",
   "execution_count": null,
   "metadata": {},
   "outputs": [],
   "source": [
    "m.get_current_selection('cars_df', \"data\")"
   ]
  },
  {
   "cell_type": "code",
   "execution_count": null,
   "metadata": {},
   "outputs": [],
   "source": [
    "import pandas as pd\n",
    "temp_df = pd.DataFrame([[1,2], [3,4]], columns=['Acceleration', 'Cylinders'])\n",
    "m.dfs['cars_df'].visualization.widget.replace_data(temp_df)"
   ]
  },
  {
   "cell_type": "code",
   "execution_count": null,
   "metadata": {},
   "outputs": [],
   "source": [
    "# the user can define a new dataframe based on the selection, which we will visualize\n",
    "def df_trans(df_in):\n",
    "    df_out = df_in['Cylinders'] + df_in['Acceleration']\n",
    "    return df_out.to_frame('Val')"
   ]
  },
  {
   "cell_type": "code",
   "execution_count": null,
   "metadata": {},
   "outputs": [],
   "source": [
    "m.new_visualization_from_selection('cars_df', 'predicted_df', df_trans)"
   ]
  },
  {
   "cell_type": "code",
   "execution_count": null,
   "metadata": {},
   "outputs": [],
   "source": [
    "# for more flexible uses, a callback can be used to modify the current kernel state\n",
    "p = {\"v\": 1}\n",
    "def cb(predicate):\n",
    "    print(predicate)\n",
    "    p[\"v\"] = predicate\n",
    "m.add_callback_to_selection('cars_df', cb)"
   ]
  },
  {
   "cell_type": "code",
   "execution_count": null,
   "metadata": {},
   "outputs": [],
   "source": [
    "p"
   ]
  },
  {
   "cell_type": "code",
   "execution_count": null,
   "metadata": {},
   "outputs": [],
   "source": [
    "# note that if you want to modify a simple value, make sure to note \"global\"\n",
    "d = 2\n",
    "def cb3(predicate):\n",
    "    global d\n",
    "    d = predicate\n",
    "m.add_callback_to_selection('cars_df', cb3)"
   ]
  },
  {
   "cell_type": "code",
   "execution_count": null,
   "metadata": {},
   "outputs": [],
   "source": [
    "d"
   ]
  }
 ],
 "metadata": {
  "kernelspec": {
   "display_name": "Python 3",
   "language": "python",
   "name": "python3"
  },
  "language_info": {
   "codemirror_mode": {
    "name": "ipython",
    "version": 3
   },
   "file_extension": ".py",
   "mimetype": "text/x-python",
   "name": "python",
   "nbconvert_exporter": "python",
   "pygments_lexer": "ipython3",
   "version": "3.7.1"
  }
 },
 "nbformat": 4,
 "nbformat_minor": 2
}
