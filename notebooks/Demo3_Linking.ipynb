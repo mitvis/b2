{
 "cells": [
  {
   "cell_type": "markdown",
   "metadata": {},
   "source": [
    "# Linking Charts\n",
    "\n",
    "In the previous example, we showed how you can create a visualization that reactively updates based on the selections. In this notebook, we show how you can link two `DataFrame`s that are derived from the same datasource and filter them automatically."
   ]
  },
  {
   "cell_type": "code",
   "execution_count": 1,
   "metadata": {},
   "outputs": [],
   "source": [
    "%load_ext autoreload\n",
    "%autoreload 2"
   ]
  },
  {
   "cell_type": "code",
   "execution_count": 11,
   "metadata": {},
   "outputs": [],
   "source": [
    "import midas\n",
    "m = midas.Midas()"
   ]
  },
  {
   "cell_type": "markdown",
   "metadata": {},
   "source": [
    "### Get all cars data"
   ]
  },
  {
   "cell_type": "code",
   "execution_count": 12,
   "metadata": {},
   "outputs": [
    {
     "name": "stdout",
     "output_type": "stream",
     "text": [
      "\u001b[92m[register_df]\t\tcars_df\u001b[0m\n"
     ]
    }
   ],
   "source": [
    "cars_df = m.read_json('data/cars.json', 'cars_df')"
   ]
  },
  {
   "cell_type": "code",
   "execution_count": null,
   "metadata": {},
   "outputs": [],
   "source": [
    "cars_df.head(5)"
   ]
  },
  {
   "cell_type": "code",
   "execution_count": 13,
   "metadata": {},
   "outputs": [
    {
     "name": "stdout",
     "output_type": "stream",
     "text": [
      "\u001b[92m[register_df]\t\tcylinder_df\u001b[0m\n"
     ]
    }
   ],
   "source": [
    "cylinder_df = m.loc('cars_df', 'cylinder_df', columns=['Cylinders'])"
   ]
  },
  {
   "cell_type": "code",
   "execution_count": 14,
   "metadata": {},
   "outputs": [
    {
     "name": "stdout",
     "output_type": "stream",
     "text": [
      "\u001b[92m[register_df]\t\tyear_df\u001b[0m\n"
     ]
    }
   ],
   "source": [
    "year_df = m.loc('cars_df', 'year_df', columns=['Year'])"
   ]
  },
  {
   "cell_type": "code",
   "execution_count": 15,
   "metadata": {},
   "outputs": [
    {
     "name": "stdout",
     "output_type": "stream",
     "text": [
      "\u001b[92m[_add_to_tick]\t\t calledyear_df\n",
      "TickItem(callback_type=<TickCallbackType.dataframe: 'dataframe'>, call=DataFrameCall(func=<function get_df_transform_func_by_index.<locals>.transform at 0x10c5e99d8>, target_df='cylinder_df'), throttle_rate=None, last_called=None)\u001b[0m\n"
     ]
    }
   ],
   "source": [
    "m.link('year_df', 'cylinder_df')\n",
    "# now you can brush year to filter the cylinder distribution"
   ]
  },
  {
   "cell_type": "code",
   "execution_count": null,
   "metadata": {},
   "outputs": [],
   "source": []
  }
 ],
 "metadata": {
  "kernelspec": {
   "display_name": "Python 3",
   "language": "python",
   "name": "python3"
  },
  "language_info": {
   "codemirror_mode": {
    "name": "ipython",
    "version": 3
   },
   "file_extension": ".py",
   "mimetype": "text/x-python",
   "name": "python",
   "nbconvert_exporter": "python",
   "pygments_lexer": "ipython3",
   "version": "3.7.1"
  }
 },
 "nbformat": 4,
 "nbformat_minor": 2
}
